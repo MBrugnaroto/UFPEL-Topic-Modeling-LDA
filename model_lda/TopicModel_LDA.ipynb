{
 "cells": [
  {
   "cell_type": "markdown",
   "metadata": {},
   "source": [
    "## Modelagem de tópicos com Latent Dirichlet Allocation (LDA)\n",
    "\n",
    "Será aplicado o modelo LDA a coleção de documentos do GT-8 ENANCIB (Informação e Tecnologia do Encontro Nacional de Pesquisa em Ciência da Informação).\n",
    "\n",
    "**Coleção de Documentos:**\n",
    "* O corpus é constituído por 273 documentos (artigos completos e resumos expandidos entre os anos de 2012 e 2019).\n",
    "\n",
    "**Analise Exploratória:**\n",
    "* Wordcloud\n",
    "\n",
    "**Pré-processamento dos dados:**\n",
    "* Conversão de termos\n",
    "* Configuração de stopwords\n",
    "* Aplicação dos modelos de bigrama e trigrama\n",
    "* Tokenização\n",
    "\n",
    "**Processos importantes que podem ainda ser feitos no pré-processamento:**\n",
    "* Remoção de palavras com menos de 3 caracteres\n",
    "* Remoção de palavras irrelevantes\n",
    "* Processos de Stemming e Lemmatization"
   ]
  },
  {
   "cell_type": "markdown",
   "metadata": {},
   "source": [
    "### Bibliotecas utilizadas"
   ]
  },
  {
   "cell_type": "code",
   "execution_count": 1,
   "metadata": {},
   "outputs": [
    {
     "name": "stderr",
     "output_type": "stream",
     "text": [
      "[nltk_data] Downloading package punkt to\n",
      "[nltk_data]     C:\\Users\\mbrug\\AppData\\Roaming\\nltk_data...\n",
      "[nltk_data]   Package punkt is already up-to-date!\n"
     ]
    },
    {
     "data": {
      "text/plain": [
       "True"
      ]
     },
     "execution_count": 1,
     "metadata": {},
     "output_type": "execute_result"
    }
   ],
   "source": [
    "import re\n",
    "import os\n",
    "from gensim import models, corpora\n",
    "from nltk import word_tokenize\n",
    "from nltk.corpus import stopwords\n",
    "from wordcloud import WordCloud\n",
    "from sklearn.feature_extraction.text import CountVectorizer\n",
    "\n",
    "import numpy as np\n",
    "import pandas as pd\n",
    "import matplotlib.pyplot as plt\n",
    "import seaborn as sns\n",
    "sns.set_style('whitegrid')\n",
    "%matplotlib inline\n",
    "\n",
    "from pyLDAvis import sklearn as sklearn_lda\n",
    "import pickle \n",
    "import pyLDAvis\n",
    "import pyLDAvis.gensim\n",
    "\n",
    "import nltk\n",
    "from nltk.probability import FreqDist\n",
    "nltk.download('punkt')"
   ]
  },
  {
   "cell_type": "markdown",
   "metadata": {},
   "source": [
    "### Funções"
   ]
  },
  {
   "cell_type": "markdown",
   "metadata": {},
   "source": [
    "* **Conversão de Termos:**\n",
    "\n",
    "Transformação de siglas populares em palavras e vise-versa."
   ]
  },
  {
   "cell_type": "code",
   "execution_count": 2,
   "metadata": {},
   "outputs": [
    {
     "name": "stderr",
     "output_type": "stream",
     "text": [
      "C:\\Users\\mbrug\\.conda\\envs\\dev\\lib\\site-packages\\ipykernel\\ipkernel.py:287: DeprecationWarning: `should_run_async` will not call `transform_cell` automatically in the future. Please pass the result to `transformed_cell` argument and any exception that happen during thetransform in `preprocessing_exc_tuple` in IPython 7.17 and above.\n",
      "  and should_run_async(code)\n"
     ]
    }
   ],
   "source": [
    "def conversao_termos(texto):\n",
    "    texto = re.sub(\" abc \",\" academia brasileira de ciência \",texto.lower())\n",
    "    texto = re.sub(\" ai \",\" arquitetura da informação \",texto.lower())\n",
    "    texto = re.sub(\" ala \",\" american library association \",texto.lower())\n",
    "    texto = re.sub(\" ala \",\" american library association \",texto.lower())\n",
    "    texto = re.sub(\" american society for information science and Technology \",\" asist \",texto.lower())\n",
    "    texto = re.sub(\" annual review of information science and technology \",\" arist \",texto.lower())\n",
    "    texto = re.sub(\" aoi \",\" arquitetura e organização da informação \",texto.lower())\n",
    "    texto = re.sub(\" associação brasileira de educação em ciência da informação \",\" abecin \",texto.lower())\n",
    "    texto = re.sub(\" associação brasileira de ensino de biblioteconomia e documentação \",\" abebd \",texto.lower())\n",
    "    texto = re.sub(\" associação brasileira de normas técnicas \",\" abnt \",texto.lower())\n",
    "    texto = re.sub(\" associação nacional de pesquisa e pós-graduação em ciência da informação \",\" ancib \",texto.lower())\n",
    "    texto = re.sub(\" base de dados referencial de artigos de periódicos em ciência da informação \",\" brapci \",texto.lower())\n",
    "    texto = re.sub(\" bci \",\" biblioteconomia e ciência da informação \",texto.lower())\n",
    "    texto = re.sub(\" biblioteca digital de teses e dissertações \",\" bdtd \",texto.lower())\n",
    "    texto = re.sub(\" bn \",\" biblioteca nacional \",texto.lower())\n",
    "    texto = re.sub(\" bu \",\" biblioteca universitária \",texto.lower())\n",
    "    texto = re.sub(\" c&t \",\" ciência e tecnologia \",texto.lower())\n",
    "    texto = re.sub(\" cc \",\" ciência da computação \",texto.lower())\n",
    "    texto = re.sub(\" ccn \",\" catálogo coletivo nacional \",texto.lower())\n",
    "    texto = re.sub(\" cdd \",\" classificação decimal de dewey \",texto.lower())\n",
    "    texto = re.sub(\" cdu \",\" classificação decimal universal \",texto.lower())\n",
    "    texto = re.sub(\" cdu \",\" classificação decimal universal \",texto.lower())\n",
    "    texto = re.sub(\" cepe \",\" conselho de extensão e pesquisa \",texto.lower())\n",
    "    texto = re.sub(\" cepe \",\" conselho de extensão e pesquisa \",texto.lower())\n",
    "    texto = re.sub(\" ci \",\" ciência da informação \",texto.lower())\n",
    "    texto = re.sub(\" ci:\",\" ciência da informação \",texto.lower()) \n",
    "    texto = re.sub(\" ci,\",\" ciência da informação \",texto.lower())\n",
    "    texto = re.sub(\" cms \",\" content management system \",texto.lower())\n",
    "    texto = re.sub(\" cne \",\" conselho nacional de educação \",texto.lower())\n",
    "    texto = re.sub(\" conselho nacional de desenvolvimento científico e tecnológico \",\" cnpq \",texto.lower())\n",
    "    texto = re.sub(\" coordenação de aperfeiçoamento de pessoal de nível superior \",\" capes \",texto.lower())\n",
    "    texto = re.sub(\" coordenação de aperfeiçoamento de pessoal de nível superior \",\" capes \",texto.lower())\n",
    "    texto = re.sub(\" crm \",\" customer relationship management \",texto.lower())\n",
    "    texto = re.sub(\" dc \",\" dublin core \",texto.lower())\n",
    "    texto = re.sub(\" descriptive ontology for linguistic and cognitive engineering \",\" dolce \",texto.lower())\n",
    "    texto = re.sub(\" ead \",\" educação à distância \",texto.lower())\n",
    "    texto = re.sub(\" eci \",\" escola de ciência da informação \",texto.lower())\n",
    "    texto = re.sub(\" enade \",\" exame nacional de desempenho \",texto.lower())\n",
    "    texto = re.sub(\" encontro nacional de pesquisa em ciência da informação \",\" enancib \",texto.lower())\n",
    "    texto = re.sub(\" fgv \",\" Fundação Getúlio Vargas \",texto.lower())\n",
    "    texto = re.sub(\" fiocruz \",\" fundação oswaldo cruz \",texto.lower())\n",
    "    texto = re.sub(\" ftp \",\" file transfer protocol \",texto.lower())\n",
    "    texto = re.sub(\" fundação brasileira à pesquisa do estudo de minas gerais \",\" fapemig \",texto.lower())\n",
    "    texto = re.sub(\" fundação brasileira à pesquisa do estudo de são paulo \",\" fapesp \",texto.lower())\n",
    "    texto = re.sub(\" fundação brasileira à pesquisa do estudo do rio de janeiro \",\" faperj \",texto.lower())\n",
    "    texto = re.sub(\" fundação de amparo às pesquisas \",\" faps \",texto.lower())\n",
    "    texto = re.sub(\" gic \",\" gestão da informação e conhecimento \",str(texto.lower()))\n",
    "    texto = re.sub(\" gic \",\" gestão da informação e do conhecimento \",texto.lower())\n",
    "    texto = re.sub(\" gpl \",\" general public licence \",texto.lower())\n",
    "    texto = re.sub(\" hypertext markup language limguagem \",\" html \",texto.lower())\n",
    "    texto = re.sub(\" ia \",\" inteligência artificial \",texto.lower())\n",
    "    texto = re.sub(\" ibpc \",\" instituto brasileiro do patrimônio cultural \",texto.lower())\n",
    "    texto = re.sub(\" ibpc \",\" instituto brasileiro do patrimônio cultural \",texto.lower())\n",
    "    texto = re.sub(\" ics \",\" informação cultura e sociedade \",texto.lower())\n",
    "    texto = re.sub(\" ict \",\" informação, ciência e tecnologia \",texto.lower())\n",
    "    texto = re.sub(\" idh \",\" índice de desenvolvimento humano \",texto.lower())\n",
    "    texto = re.sub(\" ies \",\" instituição de ensino superior \",texto.lower())\n",
    "    texto = re.sub(\" information science and technology abstracts \",\" ista \",texto.lower())\n",
    "    texto = re.sub(\" instituto brasileiro de bibliografia e documentação \",\" ibbd \",texto.lower())\n",
    "    texto = re.sub(\" instituto brasileiro de geografia e estatística \",\" ibge \",texto.lower())\n",
    "    texto = re.sub(\" instituto brasileiro de informação em ciência e tecnologia \",\" ibict \",texto.lower())\n",
    "    texto = re.sub(\" instituto de ciência da informação \",\" ici \",texto.lower())\n",
    "    texto = re.sub(\" instituto nacional de estudos e pesquisas educacionais anísio teixeira \",\" inep \",texto.lower())\n",
    "    texto = re.sub(\" instituto universitário de pesquisa do rio de janeiro \",\" iuoerj \",texto.lower())\n",
    "    texto = re.sub(\" international federation of library associations and institutions \",\" ifla \",texto.lower())\n",
    "    texto = re.sub(\" international standard book number \",\" isbn \",texto.lower())\n",
    "    texto = re.sub(\" international standard serial number \",\" issn \",texto.lower())\n",
    "    texto = re.sub(\" isi \",\" institute for scientific information \",texto.lower())\n",
    "    texto = re.sub(\" iso \",\" international organization for standardization \",texto.lower())\n",
    "    texto = re.sub(\" it \",\" informação e tecnologia \",texto.lower())\n",
    "    texto = re.sub(\" jcr \",\" journal citation reports \",texto.lower())\n",
    "    texto = re.sub(\" jstor \",\" journal storage \",texto.lower())\n",
    "    texto = re.sub(\" kos \",\" sistemas de organização do conhecimento \",texto.lower())\n",
    "    texto = re.sub(\" lc \",\" linguagem cinzenta \",texto.lower())\n",
    "    texto = re.sub(\" ld \",\" linguagem documentária \",texto.lower())\n",
    "    texto = re.sub(\" ldb \",\" lei de diretrizes e bases \",texto.lower())\n",
    "    texto = re.sub(\" library and informations science abstracts \",\" lisa \",texto.lower())\n",
    "    texto = re.sub(\" ln \",\" linguagem natural \",texto.lower())\n",
    "    texto = re.sub(\" lod \",\" linked open data \",texto.lower())\n",
    "    texto = re.sub(\" marc \",\" machine readable cataloging \",texto.lower())\n",
    "    texto = re.sub(\" mdi \",\" multiple document interface \",texto.lower())\n",
    "    texto = re.sub(\" mec \",\" ministério da educação \",texto.lower())\n",
    "    texto = re.sub(\" npd \",\" núcleo de pesquisa e documentação \",texto.lower())\n",
    "    texto = re.sub(\" oai \",\" open archives iniciative \",texto.lower())\n",
    "    texto = re.sub(\" oc \",\" organização do conhecimento \",texto.lower())\n",
    "    texto = re.sub(\" ocr \",\" optical character recognition \",texto.lower())\n",
    "    texto = re.sub(\" oi \",\" organização da informação \",texto.lower())\n",
    "    texto = re.sub(\" ojs \",\" open journal systems \",texto.lower())\n",
    "    texto = re.sub(\" ong \",\" organização não-governamental \",texto.lower())\n",
    "    texto = re.sub(\" onu \",\" organização das nações unidas \",texto.lower())\n",
    "    texto = re.sub(\" organização das nações unidas para a educação e cultura \",\" unesco \",texto.lower())\n",
    "    texto = re.sub(\" osi \",\" open society institute \",texto.lower())\n",
    "    texto = re.sub(\" oui \",\" organização e uso da informação \",texto.lower())\n",
    "    texto = re.sub(\" owl \",\" web ontology language \",texto.lower())\n",
    "    texto = re.sub(\" pln \",\" processamento de linguagem natural \",texto.lower())\n",
    "    texto = re.sub(\" plos \",\" public library of science \",texto.lower())\n",
    "    texto = re.sub(\" poi \",\" produção e organização da informação \",texto.lower())\n",
    "    texto = re.sub(\" pontifícia universidade católica de minas gerais \",\" puc mg \",texto.lower())\n",
    "    texto = re.sub(\" pontifícia universidade católica de são paulo \",\" puc sp \",texto.lower())\n",
    "    texto = re.sub(\" pontifícia universidade católica do rio de janeiro \",\" puc rj \",texto.lower())\n",
    "    texto = re.sub(\" pontifícia universidade católica do rio grande do sul \",\" puc rs \",texto.lower())\n",
    "    texto = re.sub(\" ppg \",\" programa de pós-graduação \",texto.lower())\n",
    "    texto = re.sub(\" programa de pós-graduação em ciência da informação \",\" ppgci \",texto.lower())\n",
    "    texto = re.sub(\" programa de pós-graduação em ciências sociais \",\" ppgcs \",texto.lower())\n",
    "    texto = re.sub(\" programa de pós-graduação em sociologia \",\" ppgs \",texto.lower())\n",
    "    texto = re.sub(\" rc \",\" representação do conhecimento \",texto.lower())\n",
    "    texto = re.sub(\" rdf \",\" resource description framework \",texto.lower())\n",
    "    texto = re.sub(\" ri \",\" recuperação da informação \",texto.lower())\n",
    "    texto = re.sub(\" ri \",\" recuperação da informação \",texto.lower())\n",
    "    texto = re.sub(\" sad \",\" sistema de apoio à decisão \",texto.lower())\n",
    "    texto = re.sub(\" sci \",\" science citation index \",texto.lower())\n",
    "    texto = re.sub(\" scientific electronic library online \",\" scielo\",texto.lower())\n",
    "    texto = re.sub(\" sdr \",\" zona de desenvolvimento real \",texto.lower())\n",
    "    texto = re.sub(\" serviço central de informação bibliográfica \",\" scib \",texto.lower())\n",
    "    texto = re.sub(\" serviço nacional de aprendizagem comercial \",\" senac \",texto.lower())\n",
    "    texto = re.sub(\" serviço nacional de aprendizagem industrial \",\" senai \",texto.lower())\n",
    "    texto = re.sub(\" serviço social da indústria \",\" sesi \",texto.lower())\n",
    "    texto = re.sub(\" serviço social do comércio \",\" sesc \",texto.lower())\n",
    "    texto = re.sub(\" sesi \",\" serviço social da indústria \",texto.lower())\n",
    "    texto = re.sub(\" sibi \",\" sistema integrado de bibliotecas \",texto.lower())\n",
    "    texto = re.sub(\" sig \",\" sistema de informação gerencial \",texto.lower())\n",
    "    texto = re.sub(\" snad \",\" secretária nacional de políticas anti-drogas \",texto.lower())\n",
    "    texto = re.sub(\" snpq \",\" sistema nacional de pós-graduação\",texto.lower())\n",
    "    texto = re.sub(\" soc \",\" sistemas de organização do conhecimento \",texto.lower())\n",
    "    texto = re.sub(\" sri \",\" sistema de recuperação da informação \",texto.lower())\n",
    "    texto = re.sub(\" ssd \",\" sistema de suporte à decisão \",texto.lower())\n",
    "    texto = re.sub(\" tcc \",\" trabalho de conclusão de curso \",texto.lower())\n",
    "    texto = re.sub(\" universidade federal de minas gerais \",\" ufmg \",texto.lower())\n",
    "    texto = re.sub(\" universidade federal de ouro preto \",\" ufop \",texto.lower())\n",
    "    texto = re.sub(\" universidade federal de pernambuco \",\" ufpe \",texto.lower())\n",
    "    texto = re.sub(\" universidade federal de santa caratina \",\" ufsc \",texto.lower())\n",
    "    texto = re.sub(\" universidade federal de são carlos \",\" ufscar \",texto.lower())\n",
    "    texto = re.sub(\" universidade federal de sergipe \",\" ufs \",texto.lower())\n",
    "    texto = re.sub(\" universidade federal de viçosa \",\" ufv \",texto.lower())\n",
    "    texto = re.sub(\" universidade federal do ceará \",\" ufc \",texto.lower())\n",
    "    texto = re.sub(\" universidade federal do estado do rio de janeiro \",\" unirio \",texto.lower())\n",
    "    texto = re.sub(\" universidade federal do maranhão \",\" ufma \",texto.lower())\n",
    "    texto = re.sub(\" universidade federal do pará \",\" ufpa \",texto.lower())\n",
    "    texto = re.sub(\" universidade federal do paraná \",\" ufpr \",texto.lower())\n",
    "    texto = re.sub(\" universidade federal do rio de janeiro \",\" ufrj \",texto.lower())\n",
    "    texto = re.sub(\" universidade federal do rio grande do norte \",\" ufrn \",texto.lower())\n",
    "    texto = re.sub(\" universidade federal do rio grande do sul  \",\" ufrgs \",texto.lower())\n",
    "    texto = re.sub(\" universidade federal fluminense \",\" uff \",texto.lower())\n",
    "    texto = re.sub(\" universidade federal rural do rio de janeiro \",\" ufrrj \",texto.lower())\n",
    "    texto = re.sub(\" uri \",\" uniform resource identifier \",texto.lower())\n",
    "    texto = re.sub(\" world wide web consortium \",\" w3c \",texto.lower())\n",
    "    texto = re.sub(\" xml \",\" extensible markup language \",texto.lower())\n",
    "    texto = re.sub(\" zpd \",\" zona de desenvolvimento proximal \",texto.lower())\n",
    "    texto = re.sub(\"-se\", \"\", texto.lower())\n",
    "    texto = re.sub(\" se \", \"\", texto.lower())\n",
    "    return texto"
   ]
  },
  {
   "cell_type": "markdown",
   "metadata": {},
   "source": [
    "* **Coleção de documentos e aplicação da conversão de termos:**"
   ]
  },
  {
   "cell_type": "code",
   "execution_count": 3,
   "metadata": {},
   "outputs": [
    {
     "name": "stderr",
     "output_type": "stream",
     "text": [
      "C:\\Users\\mbrug\\.conda\\envs\\dev\\lib\\site-packages\\ipykernel\\ipkernel.py:287: DeprecationWarning: `should_run_async` will not call `transform_cell` automatically in the future. Please pass the result to `transformed_cell` argument and any exception that happen during thetransform in `preprocessing_exc_tuple` in IPython 7.17 and above.\n",
      "  and should_run_async(code)\n"
     ]
    }
   ],
   "source": [
    "def converted_data():\n",
    "    path = \"C:/Users/mbrug/Documents/AnacondaRepositorio/LDA-MarcosDeSouza/topic-model/corpus_gt08.txt\"\n",
    "    file = open(path, \"r\", encoding=\"utf-8\")\n",
    "    \n",
    "    data = []\n",
    "    for fileid in file:\n",
    "        document = fileid\n",
    "        document = conversao_termos(document)\n",
    "        \n",
    "        data.append(document)\n",
    "    return data\n",
    "    \n",
    "def quantidade_documentos(data):\n",
    "    print(len(data))"
   ]
  },
  {
   "cell_type": "markdown",
   "metadata": {},
   "source": [
    "* **Bigrama e Trigrama**"
   ]
  },
  {
   "cell_type": "code",
   "execution_count": 4,
   "metadata": {},
   "outputs": [
    {
     "name": "stderr",
     "output_type": "stream",
     "text": [
      "C:\\Users\\mbrug\\.conda\\envs\\dev\\lib\\site-packages\\ipykernel\\ipkernel.py:287: DeprecationWarning: `should_run_async` will not call `transform_cell` automatically in the future. Please pass the result to `transformed_cell` argument and any exception that happen during thetransform in `preprocessing_exc_tuple` in IPython 7.17 and above.\n",
      "  and should_run_async(code)\n"
     ]
    }
   ],
   "source": [
    "def bigramas(words):\n",
    " \n",
    "    bigrams = []\n",
    " \n",
    "    for i in range(0, len(words)):\n",
    "        if (i == len(words)-1):\n",
    "            break\n",
    "        else:\n",
    "            bigrama_obs = words[i] + '_' + words[i+1]\n",
    "            bigrams.append(bigrama_obs)\n",
    " \n",
    "    return bigrams\n",
    "\n",
    "def trigramas(words):\n",
    " \n",
    "    trigrams = []\n",
    " \n",
    "    for i in range(0, len(words)):\n",
    "        if (i == len(words)-2):\n",
    "            break\n",
    "        else:\n",
    "            trigrama_obs = words[i] + '_' + words[i+1] + '_' + words[i+2]\n",
    "            trigrams.append(trigrama_obs)\n",
    " \n",
    "    return trigrams"
   ]
  },
  {
   "cell_type": "markdown",
   "metadata": {},
   "source": [
    "* **Tokenização e limpa texto**"
   ]
  },
  {
   "cell_type": "code",
   "execution_count": 5,
   "metadata": {},
   "outputs": [
    {
     "name": "stderr",
     "output_type": "stream",
     "text": [
      "C:\\Users\\mbrug\\.conda\\envs\\dev\\lib\\site-packages\\ipykernel\\ipkernel.py:287: DeprecationWarning: `should_run_async` will not call `transform_cell` automatically in the future. Please pass the result to `transformed_cell` argument and any exception that happen during thetransform in `preprocessing_exc_tuple` in IPython 7.17 and above.\n",
      "  and should_run_async(code)\n",
      "<>:3: DeprecationWarning: invalid escape sequence \\-\n",
      "<>:3: DeprecationWarning: invalid escape sequence \\-\n",
      "<>:3: DeprecationWarning: invalid escape sequence \\-\n",
      "<ipython-input-5-cf4401504a43>:3: DeprecationWarning: invalid escape sequence \\-\n",
      "  cleaned_text = [t for t in tokenized_text if t not in stop_words and re.match('[a-zA-Z\\-][a-zA-Z\\-]{2,}', t)]\n"
     ]
    }
   ],
   "source": [
    "def clean_data(text):\n",
    "    tokenized_text = word_tokenize(text.lower(), language='portuguese')\n",
    "    cleaned_text = [t for t in tokenized_text if t not in stop_words and re.match('[a-zA-Z\\-][a-zA-Z\\-]{2,}', t)]\n",
    "    \n",
    "    return cleaned_text"
   ]
  },
  {
   "cell_type": "markdown",
   "metadata": {},
   "source": [
    "* **Plot das 10 palavaras mais comuns**"
   ]
  },
  {
   "cell_type": "code",
   "execution_count": 6,
   "metadata": {},
   "outputs": [
    {
     "name": "stderr",
     "output_type": "stream",
     "text": [
      "C:\\Users\\mbrug\\.conda\\envs\\dev\\lib\\site-packages\\ipykernel\\ipkernel.py:287: DeprecationWarning: `should_run_async` will not call `transform_cell` automatically in the future. Please pass the result to `transformed_cell` argument and any exception that happen during thetransform in `preprocessing_exc_tuple` in IPython 7.17 and above.\n",
      "  and should_run_async(code)\n"
     ]
    }
   ],
   "source": [
    "def plot_10_most_common_words(count_data, count_vectorizer):\n",
    "    words = count_vectorizer.get_feature_names()\n",
    "    total_counts = np.zeros(len(words))\n",
    "    \n",
    "    for t in count_data:\n",
    "        total_counts+=t.toarray()[0]\n",
    "    \n",
    "    count_dict = (zip(words, total_counts))\n",
    "    count_dict = sorted(count_dict, key=lambda x:x[1], reverse=True)[0:10]\n",
    "    words = [w[0] for w in count_dict]\n",
    "    counts = [w[1] for w in count_dict]\n",
    "    x_pos = np.arange(len(words)) \n",
    "    \n",
    "    plt.figure(2, figsize=(15, 15/1.6180))\n",
    "    plt.subplot(title='As 10 palavras mais comuns na coleção de documentos')\n",
    "    sns.set_context(\"notebook\", font_scale=1.25, rc={\"lines.linewidth\": 2.5})\n",
    "    sns.barplot(x_pos, counts, palette='husl')\n",
    "    plt.xticks(x_pos, words, rotation=90) \n",
    "    plt.xlabel('Palavras')\n",
    "    plt.ylabel('Frequência')\n",
    "    plt.show()"
   ]
  },
  {
   "cell_type": "markdown",
   "metadata": {},
   "source": [
    "* **Word Cloud**"
   ]
  },
  {
   "cell_type": "code",
   "execution_count": 7,
   "metadata": {},
   "outputs": [
    {
     "name": "stderr",
     "output_type": "stream",
     "text": [
      "C:\\Users\\mbrug\\.conda\\envs\\dev\\lib\\site-packages\\ipykernel\\ipkernel.py:287: DeprecationWarning: `should_run_async` will not call `transform_cell` automatically in the future. Please pass the result to `transformed_cell` argument and any exception that happen during thetransform in `preprocessing_exc_tuple` in IPython 7.17 and above.\n",
      "  and should_run_async(code)\n"
     ]
    }
   ],
   "source": [
    "def wordCloud ():\n",
    "    wordcloud = WordCloud(background_color=\"white\", \n",
    "                      max_words=5000, \n",
    "                      contour_width=3, \n",
    "                      contour_color='steelblue')\n",
    "    return wordcloud"
   ]
  },
  {
   "cell_type": "markdown",
   "metadata": {},
   "source": [
    "### Análise Exploratória"
   ]
  },
  {
   "cell_type": "markdown",
   "metadata": {},
   "source": [
    "* **Carregamento dos dados e Conversão de Termos:**"
   ]
  },
  {
   "cell_type": "code",
   "execution_count": 8,
   "metadata": {},
   "outputs": [
    {
     "name": "stderr",
     "output_type": "stream",
     "text": [
      "C:\\Users\\mbrug\\.conda\\envs\\dev\\lib\\site-packages\\ipykernel\\ipkernel.py:287: DeprecationWarning: `should_run_async` will not call `transform_cell` automatically in the future. Please pass the result to `transformed_cell` argument and any exception that happen during thetransform in `preprocessing_exc_tuple` in IPython 7.17 and above.\n",
      "  and should_run_async(code)\n"
     ]
    }
   ],
   "source": [
    "data = converted_data()"
   ]
  },
  {
   "cell_type": "code",
   "execution_count": 9,
   "metadata": {},
   "outputs": [
    {
     "name": "stderr",
     "output_type": "stream",
     "text": [
      "C:\\Users\\mbrug\\.conda\\envs\\dev\\lib\\site-packages\\ipykernel\\ipkernel.py:287: DeprecationWarning: `should_run_async` will not call `transform_cell` automatically in the future. Please pass the result to `transformed_cell` argument and any exception that happen during thetransform in `preprocessing_exc_tuple` in IPython 7.17 and above.\n",
      "  and should_run_async(code)\n"
     ]
    },
    {
     "data": {
      "text/html": [
       "<div>\n",
       "<style scoped>\n",
       "    .dataframe tbody tr th:only-of-type {\n",
       "        vertical-align: middle;\n",
       "    }\n",
       "\n",
       "    .dataframe tbody tr th {\n",
       "        vertical-align: top;\n",
       "    }\n",
       "\n",
       "    .dataframe thead th {\n",
       "        text-align: right;\n",
       "    }\n",
       "</style>\n",
       "<table border=\"1\" class=\"dataframe\">\n",
       "  <thead>\n",
       "    <tr style=\"text-align: right;\">\n",
       "      <th></th>\n",
       "      <th>headline_text</th>\n",
       "      <th>index</th>\n",
       "    </tr>\n",
       "  </thead>\n",
       "  <tbody>\n",
       "    <tr>\n",
       "      <th>0</th>\n",
       "      <td>['xiii enancib – enancib 2012 gt-8: informação...</td>\n",
       "      <td>0</td>\n",
       "    </tr>\n",
       "    <tr>\n",
       "      <th>1</th>\n",
       "      <td>['xiii enancib - xiii enancib 2012      gt 8: ...</td>\n",
       "      <td>1</td>\n",
       "    </tr>\n",
       "    <tr>\n",
       "      <th>2</th>\n",
       "      <td>['xiii enancib - xiii enancib 2012 gt 8: infor...</td>\n",
       "      <td>2</td>\n",
       "    </tr>\n",
       "    <tr>\n",
       "      <th>3</th>\n",
       "      <td>['xiii enancib - xiii enancib 2012 gt 8: infor...</td>\n",
       "      <td>3</td>\n",
       "    </tr>\n",
       "    <tr>\n",
       "      <th>4</th>\n",
       "      <td>['xiii enancib - xiii enancib 2012  gt8 - info...</td>\n",
       "      <td>4</td>\n",
       "    </tr>\n",
       "  </tbody>\n",
       "</table>\n",
       "</div>"
      ],
      "text/plain": [
       "                                       headline_text  index\n",
       "0  ['xiii enancib – enancib 2012 gt-8: informação...      0\n",
       "1  ['xiii enancib - xiii enancib 2012      gt 8: ...      1\n",
       "2  ['xiii enancib - xiii enancib 2012 gt 8: infor...      2\n",
       "3  ['xiii enancib - xiii enancib 2012 gt 8: infor...      3\n",
       "4  ['xiii enancib - xiii enancib 2012  gt8 - info...      4"
      ]
     },
     "execution_count": 9,
     "metadata": {},
     "output_type": "execute_result"
    }
   ],
   "source": [
    "df_data = pd.DataFrame(data)\n",
    "df_data['index'] = df_data.index\n",
    "df_data.columns = ['headline_text', 'index']\n",
    "df_data.head()"
   ]
  },
  {
   "cell_type": "markdown",
   "metadata": {},
   "source": [
    "Verifica quantidade"
   ]
  },
  {
   "cell_type": "code",
   "execution_count": 10,
   "metadata": {},
   "outputs": [
    {
     "name": "stderr",
     "output_type": "stream",
     "text": [
      "C:\\Users\\mbrug\\.conda\\envs\\dev\\lib\\site-packages\\ipykernel\\ipkernel.py:287: DeprecationWarning: `should_run_async` will not call `transform_cell` automatically in the future. Please pass the result to `transformed_cell` argument and any exception that happen during thetransform in `preprocessing_exc_tuple` in IPython 7.17 and above.\n",
      "  and should_run_async(code)\n"
     ]
    },
    {
     "data": {
      "text/plain": [
       "headline_text    273\n",
       "index            273\n",
       "dtype: int64"
      ]
     },
     "execution_count": 10,
     "metadata": {},
     "output_type": "execute_result"
    }
   ],
   "source": [
    "df_data.count()"
   ]
  },
  {
   "cell_type": "markdown",
   "metadata": {},
   "source": [
    "* **WordCloud**"
   ]
  },
  {
   "cell_type": "code",
   "execution_count": 11,
   "metadata": {},
   "outputs": [
    {
     "name": "stderr",
     "output_type": "stream",
     "text": [
      "C:\\Users\\mbrug\\.conda\\envs\\dev\\lib\\site-packages\\ipykernel\\ipkernel.py:287: DeprecationWarning: `should_run_async` will not call `transform_cell` automatically in the future. Please pass the result to `transformed_cell` argument and any exception that happen during thetransform in `preprocessing_exc_tuple` in IPython 7.17 and above.\n",
      "  and should_run_async(code)\n"
     ]
    }
   ],
   "source": [
    "long_string = ','.join(list(df_data['headline_text'].values))"
   ]
  },
  {
   "cell_type": "code",
   "execution_count": 12,
   "metadata": {},
   "outputs": [
    {
     "name": "stderr",
     "output_type": "stream",
     "text": [
      "C:\\Users\\mbrug\\.conda\\envs\\dev\\lib\\site-packages\\ipykernel\\ipkernel.py:287: DeprecationWarning: `should_run_async` will not call `transform_cell` automatically in the future. Please pass the result to `transformed_cell` argument and any exception that happen during thetransform in `preprocessing_exc_tuple` in IPython 7.17 and above.\n",
      "  and should_run_async(code)\n"
     ]
    }
   ],
   "source": [
    "wordcloud = wordCloud()"
   ]
  },
  {
   "cell_type": "code",
   "execution_count": 13,
   "metadata": {},
   "outputs": [
    {
     "name": "stderr",
     "output_type": "stream",
     "text": [
      "C:\\Users\\mbrug\\.conda\\envs\\dev\\lib\\site-packages\\ipykernel\\ipkernel.py:287: DeprecationWarning: `should_run_async` will not call `transform_cell` automatically in the future. Please pass the result to `transformed_cell` argument and any exception that happen during thetransform in `preprocessing_exc_tuple` in IPython 7.17 and above.\n",
      "  and should_run_async(code)\n"
     ]
    },
    {
     "data": {
      "text/plain": [
       "<wordcloud.wordcloud.WordCloud at 0x1e60ab8d710>"
      ]
     },
     "execution_count": 13,
     "metadata": {},
     "output_type": "execute_result"
    }
   ],
   "source": [
    "wordcloud.generate(long_string)"
   ]
  },
  {
   "cell_type": "code",
   "execution_count": 14,
   "metadata": {},
   "outputs": [
    {
     "name": "stderr",
     "output_type": "stream",
     "text": [
      "C:\\Users\\mbrug\\.conda\\envs\\dev\\lib\\site-packages\\ipykernel\\ipkernel.py:287: DeprecationWarning: `should_run_async` will not call `transform_cell` automatically in the future. Please pass the result to `transformed_cell` argument and any exception that happen during thetransform in `preprocessing_exc_tuple` in IPython 7.17 and above.\n",
      "  and should_run_async(code)\n"
     ]
    },
    {
     "data": {
      "image/png": "[encoded data removed]",
      "text/plain": [
       "<PIL.Image.Image image mode=RGB size=400x200 at 0x1E60AC25DA0>"
      ]
     },
     "execution_count": 14,
     "metadata": {},
     "output_type": "execute_result"
    }
   ],
   "source": [
    "wordcloud.to_image()"
   ]
  },
  {
   "cell_type": "code",
   "execution_count": 15,
   "metadata": {},
   "outputs": [
    {
     "name": "stderr",
     "output_type": "stream",
     "text": [
      "C:\\Users\\mbrug\\.conda\\envs\\dev\\lib\\site-packages\\ipykernel\\ipkernel.py:287: DeprecationWarning: `should_run_async` will not call `transform_cell` automatically in the future. Please pass the result to `transformed_cell` argument and any exception that happen during thetransform in `preprocessing_exc_tuple` in IPython 7.17 and above.\n",
      "  and should_run_async(code)\n"
     ]
    },
    {
     "data": {
      "text/plain": [
       "<wordcloud.wordcloud.WordCloud at 0x1e60ab8d710>"
      ]
     },
     "execution_count": 15,
     "metadata": {},
     "output_type": "execute_result"
    }
   ],
   "source": [
    "wordcloud.to_file('word_cloud.png')"
   ]
  },
  {
   "cell_type": "markdown",
   "metadata": {},
   "source": [
    "### Pré-processamento"
   ]
  },
  {
   "cell_type": "markdown",
   "metadata": {},
   "source": [
    "Verifica a conversão de termos"
   ]
  },
  {
   "cell_type": "code",
   "execution_count": 16,
   "metadata": {},
   "outputs": [
    {
     "name": "stderr",
     "output_type": "stream",
     "text": [
      "C:\\Users\\mbrug\\.conda\\envs\\dev\\lib\\site-packages\\ipykernel\\ipkernel.py:287: DeprecationWarning: `should_run_async` will not call `transform_cell` automatically in the future. Please pass the result to `transformed_cell` argument and any exception that happen during thetransform in `preprocessing_exc_tuple` in IPython 7.17 and above.\n",
      "  and should_run_async(code)\n"
     ]
    },
    {
     "data": {
      "text/plain": [
       "\"['xiii enancib – enancib 2012 gt-8: informação e tecnologia  artigos científicos digitais na web: novas experiências para apresentação, acesso e leitura   modalidade de apresentação: comunicação oral  déborah motta ambinder - uff carlos henrique marcondes - uff  deborahambinder@yahoo.com.br  resumo: o padrão atual de publicação acadêmica é o periódico científico eletrônico. com a internet e publicações eletrônicas a informação passou a ser produzida num ritmo que excede as habilidades dos pesquisadores em processá-la. mesmo com as facilidades atuais de acesso ao texto completo dos artigos científicos, o formato utilizado no meio eletrônico ainda é o textual legível somente por pessoas, cópia digital do texto impresso, o que impossibilita seu processamento semântico por programas. recentemente têm surgido novas propostas e experiências inovadoras de publicações acadêmicas digitais, utilizando as facilidades oferecidas pelas tecnologias da web semântica e web 2.0, além de outras, no sentido de ampliar as possibilidades de interação leitor-autor, propiciando avaliação direta e comentários, maiores possibilidades de colaboração científica, recuperação e processamento semântico do conteúdo de artigos científicos. este trabalho objetiva identificar experiências inovadoras de periódicos científicos que proporcionam acesso direto ao conteúdo semântico dos artigos científicos digitais, que ampliam o potencial de compreensão e recuperação do conteúdo semântico e de interação entre autores e leitores de artigos científicos digitais na web. foram identificadas e analisadas 16 experiências neste sentido. a pesquisa fundamenta nas bases da ciência da informação (comunicação científica) e ciência da computação (web semântica e web 2.0). de natureza documental na web, bibliográfica, aplicada, qualitativa, exploratória e descritiva, a pesquisa utiliza o método comparativo para identificação de características comuns e diferenças existentes nas experiências, as quais estão sintetizadas no quadro 1 deste artigo.  palavras-chave: periódico científico. periódico científico eletrônico. comunicação científica. publicação semântica. web semântica. web 2.0.  1 introdução  historicamente, desde o século xvii, os artigos científicos tornaram canais privilegiados de comunicação científica, um veículo de descobertas destinado ao conhecimento público. o padrão de publicação acadêmica da atualidade é o periódico científico eletrônico. \\\\x0cavanços proporcionados pelas tecnologias de informação e comunicação (tics), em especial pela internet, desencadearam uma série de mudanças no desenvolvimento da ciência e na evolução do periódico científico. este novo ambiente informacional constitui agora por uma enorme quantidade de registros da cultura humana, retratada por documentos e recursos como textos, gráficos, imagens, sons e outros. todavia, o que parece ser o seu maior poder de atração é, ao mesmo tempo, um de seus fatores mais críticos.   atualmente, a web é o ambiente para o qual estão voltados os maiores esforços de desenvolvimento na área de recuperação de informação. contudo, a intensificação do uso das tecnologias digitais atingiu um estágio em que os modelos clássicos de organização e recuperação da informação, já não são capazes de solucionar os problemas colocados por este novo ambiente. hoje existem dois obstáculos principais para o acesso e utilização em larga escala deste conteúdo. o primeiro obstáculo está relacionado ao excesso de informações. a liberdade dos usuários e a facilidade depublicar na internet desencadearam a proliferação desordenada de informações, transformando a internet em um imenso repositório de documentos, onde localizar, recuperar e integrar dados no ambiente digital tornou um desafio e tarefa cada vez mais difícil.  a quantidade e complexidade das informações disponíveis, em combinação com o tempo escasso para leitura atingiram um ponto, onde não podem mais ser sustentadas com as práticas atuais.  o segundo e maior obstáculo encontrado por estudiosos e grupos de pesquisa, que trabalham para estruturar a quantidade crescente de conteúdos digitais disponibilizados na web, consiste no fato de que o formato utilizado no meio eletrônico ainda é igual ao formato em papel, ou seja, o texto é linear, sequencial e caracteriza por ser uma cópia digital do texto impresso, lidos por pessoas e não adequados para o processamento semântico dos computadores. isto acontece porque o conhecimento científico incorporado aos textos dos artigos de periódicosapresenta em linguagem natural e este só é compreendido exclusivamente por seres humanos. implícita a essas questões destacamos a importância dos procedimentos relacionados à gestão de conteúdos informacionais, ou seja, a necessidade do tratamento dos mesmos para acesso aos recursos disponíveis na web e a relação de complementaridade entre a ciência da informação e ciência da computação neste processo.  a gestão de conteúdos [...] é um conceito recente que surge no âmbito da ciência da computação, para dar conta do gerenciamento de informações de sistemas corporativos, possibilitando sua organização e acesso. entretanto, este conceito está diretamente relacionado às atividades de tratamento e recuperação de informação, velhas conhecidas no ambiente da ciência da informação. (campos, 2006, p. 56)  \\\\x0cpara os artigos científicos e a comunicação científica em geral, a web foi bem sucedida como uma plataforma de divulgação de trabalhos científicos, contudo, muita informação ainda permanece trancada em documentos distintos e não interligados entre si no ambiente digital. apesar da facilidade de acesso ao texto completo dos artigos de periódicos científicos disponíveis na web, o formato atual dos artigos dificulta a comparação do seu conteúdo semântico por computadores. mesmo os modernos sistemas de busca bibliográfica das bibliotecas digitais, repositórios e bases de dados (como scopus, web of science, scielo, portal de periódicos capes) ainda trabalham com estratégias de busca não semânticas e por isso pouco expressivas.  as buscas booleanas “e/ou/não”, já não são suficientes para atender a demanda dos pesquisadores. é preciso aumentar o potencial de busca e leitura semântica dos conteúdos dos artigos científicos, a fim de identificar lacunas, contradições e acordos no conhecimento científico. as consultas por palavras-chaves que compõem os registros bibliográficos utilizados nos modernos sistemas de recuperação bibliográfica por meio de álgebra booleana não contemplam relações semânticas que possam existir entre os elementos que compõem o conteúdo dos documentos que elas representam. com vistas a tornar o conhecimento científico humano mais acessível e relacionar com detalhes o conteúdo do texto para facilitar a leitura pelo pesquisador, a ordem do dia passa a ser o conhecimento e o domínio de ferramentas que ofereçam uma estrutura de organização que facilite a interpretação dos dados. é preciso que os dadosrevelem de forma “inteligível para as máquinas”, a fim de que possam ser “interpretados” e processados.  no cerne das mudanças em curso na comunicação científica, está também, o crescimento de uma prática de leitura chamada de “leitura estratégica” – termo cunhado por renear e palmer (2009).  esta prática é motivada pelo novo cenário de pesquisa da web e pela quantidade crescente de artigos científicos que o pesquisador ou cientista precisa ler paramanter atualizado. de acordo com renear e palmer (2009, p.828), “cientistas sempre leram estrategicamente trabalhando com muitos artigos simultaneamente para pesquisar, filtrar, associar, anotar e analisar fragmentos de um conteúdo”. esta prática propõe relacionar com detalhes o conteúdo do texto possibilitando acessar e explorar os artigos em menor tempo possível.  conforme estes autores, para dar suporte e intensificar a efetividade desta prática de leitura cada vez mais frequente, é preciso ampliar a interação entre autores e leitores de artigos científicos digitais e permitir que computadores possam apoiar este processo através do acesso \\\\x0cdireto ao conteúdo semântico e às afirmações contidas no texto de artigos científicos. é preciso conhecer novas ferramentas de apoio a esta prática, uma vez que os atuais sistemas de busca comuns ainda não estão preparados para tal. para que um artigo tenha possibilidades de recuperação e compreensão mais inteligente, é importante que os periódicos científicos recebam tratamento por máquina, para que possam ser elaborados com mecanismos que possibilitem a sua recuperação de um modo mais inteligente. “é necessário uma melhoria no conteúdo do artigo científico que será obtida através do enriquecimento da semântica e do conteúdo sintático de um documento” (berghel, 1999, p.22).apropriando desta responsabilidade, pesquisadores e estudiosos exploram a massa informacional existente na web, buscando reavaliar suas possibilidades, de forma a instrumentar os computadores para processarem os registros e fazerem inferências mais sofisticadas.  as páginas da web foram construídas com semânticas locais, e este fatoconstitui como o maior obstáculo para integrar seus conteúdos. o termo “semântica” tem sido amplamente utilizado nos últimos anos em diversas áreas de pesquisa e, em particular, em áreas relacionadas à tecnologia da informação. “um dos motivadores de tal apropriação é a visão da web semântica, originada na expansão da web e nas limitações dos instrumentos de busca em sintaxe”. (almeida; souza, 2011, p. 25). propostas como as da web semântica (berners-lee; hendler; lassila, 2001) e web 2.0 (primo, 2008) permitem antever como será este novo ambiente informacional e que facilidades poderão prover para as publicações científicas.  o projeto da web semânticaconstitui numa evolução no modo como as informações são organizadas e representadas no ambiente web, contudo é uma técnica ainda em construção. seu objetivo é estruturar e possibilitar a compreensão e o gerenciamento dos conteúdos armazenados na web, independente da forma queapresentem (texto, som, imagem e gráficos), a partir da valoração semântica desses conteúdos e através dos agentes, que são programas coletores de conteúdo advindos de fontes diversas capazes de processar as informações e permutar resultados com outros programas da web atual (berners- lee; hendler; lassila, 2001). a web 2.0caracteriza por “potencializar as formas de publicação, compartilhamento e organização de informações, além de ampliar os espaços para a interação entre os participantes do processo” (primo, 2008, p. 101). através de novas ferramentas como wikis, rss, chats, \\\\x0cmsn, redes sociais, social bookmark e outras, os usuários podem interagir e gerar novos conteúdos através da plataforma web. o cenário atual das publicações científicas na web apresenta iniciativas com sistemas de buscas mais avançados; novas abordagens de apresentação para acesso on-line à pesquisa científica e novos formatos de artigos científicos digitais que permitem recuperar a informação de forma mais inteligente explorando no ambiente digital, as possibilidades abertas pelas tecnologias da web semântica e da web 2.0. recentes avanços nas tics estão trazendo modelos inovadores de publicação acadêmica que irão possibilitar a pesquisa e a divulgação de resultados de investigações  realizadas pelos estudiosos de um modo ainda mais eficaz. identificamos na literatura e na web, iniciativas que abordam a melhoria da transmissão de conteúdos científicos usando as ferramentas online, com foco na reutilização de conteúdo na mídia social. algumas iniciativas em curso estão começando a chamar de “publicação semântica” as publicações que visam melhorar a forma como os cientistascomunicam usando as tecnologias semânticas. shotton, portwin, klyne e miles (apud costa, 2010, p. 15), propõem o termo “publicação semântica” para definir algo que explicite o conteúdo semântico de um artigo publicado, facilitando descoberta automatizada, tornando possível ligá-lo a outros artigos semanticamente relacionados e facilitar a integração de dados entre artigos.  outro novo modelo de publicação acadêmica, que vem possibilitando a comunicação científica entre os pares com mais eficácia, são as que utilizam as redes sociais, para fins de publicação e divulgação de resultados de suas investigações. a web 2.0, além de facilitar a comunicação interpessoal e o compartilhamento de informações, vemdestacando também, pela colaboração científica. periódicos renomados como o bmj1 e o nature2 adotam nos seus websites o blog como meio formal para disseminar e promover discussões sobre trabalhos publicados pelas comunidades de leitores. os periódicos científicos que utilizam a web 2.03 aceleram o processo de produção do conhecimento e, consequentemente, o processo de comunicação científica.                                                 1 disponível em: <http://www.bmj.com/>. 2 disponível em: <http://www.nature.com/>. 3 disponível em: <http://slidshare.net/suelybcs>. \\\\x0ca proposta desta pesquisa, que resulta da dissertação4 apresentada ao ppgci – ppgci/uff em maio de 2012, é identificar projetos e experiências inovadoras de periódicos científicos que utilizam tecnologias como as da web semântica e web 2.0 entre outras para fornecer acesso direto ao conteúdo semântico dos artigos científicos digitais e ampliar o potencial de compreensão e recuperação do conteúdo semântico e de interação entre autores e leitores de artigos científicos digitais na web.  este artigo está organizado em 5 (cinco) seções: introdução; metodologia; resultados e discussões; conclusões e referências.  2 metodologia  trata de uma pesquisa de natureza documental na web; bibliográfica; aplicada; qualitativa; exploratória e descritiva (lakatos; marconi, 2004), que busca aportes teóricos na ciência da informação, dando ênfase ao periódico científico como canal privilegiado de comunicação científica e na ciência da computação, ao que diz respeito ao uso das tecnologias da web semântica e web 2.0.  fontes fortemente focadas no tema da pesquisa, como os artigos de shotton, david et al (2009); renear e palmer (2009); anais de eventos elpub – international conference on electronic publishing5, em sua 16ª edição em 2012 e o i workshop on semantic publications6 - sepublica (2011), serviram como ponto de partida para a identificação dos projetos e experiências relevantes. além de ajudarem a estabelecer as estratégias de busca, permitiram o levantamento bibliográfico em base de dados e fontes referenciais e de informação como: enancib (enancib); arist (arist); scielo(scielo); portal de periódicos capes; base de dados referenciais de artigos de periódicos de ciência da informação (brapci); public library of science (plos); a library & information science abstract (lisa); web of science e google scholar. o campo empírico desta pesquisa é formado pela coleta de dados de experiências que promovem novos formatos de artigos científicos digitais                                                 4 ambinder, déborah  motta. artigos científicos digitais na web: novas experiências para apresentação, acesso e leitura. dissertação (mestrado em ciência da informação) - universidade federal fluminense, ppgci/uff, niterói, 2012. 5 os anais de todas as conferências estão disponíveis em: <http://elpub.scix.net/> 6 disponível em: <http://sepublica.mywikipaper.org/drupal>  \\\\x0cque ultrapassam o já conhecido, formato textual e linear de leitura e pelo mapeamento de iniciativas com artigos científicos que exploram no ambiente digital, as possibilidades abertas pelas tecnologias semânticas e da web 2.0. este estudo identificou e analisou 16 experiências (sendo estas as mais recorrentes na pesquisa bibliográfica realizada), as quais foram classificadas em três categorias: 1) iniciativas de uso de linguagens com aplicações em extensible markup language – extensible markup language – para  marcação e publicação de artigos científicos na web; 2) uso de ontologias em publicações científicas e 3) sistemas inovadores de publicações científicas eletrônicas.   3 resultados e discussões  3.1 iniciativas de uso de linguagens com aplicações em extensible markup language – extensible markup language para  marcação e publicação de artigos científicos na web.   - chemical markup language7 (cml) – compreendida por seres humanos e por máquinas, foi desenvolvida por peter murray-rust e henry rzepa em 1995 para representar formalmente informações de química (moléculas) através do desenvolvimento de um mecanismo de dicionário semântico. segundo murray-rust et al (2011) “a arquitetura semântica da cml consiste de convenções, dicionários e unidades. as convenções estão em conformidade com uma especificação de nível superior e cada convenção pode restringir documentos compatíveis através de validação”. de acordo com murray-rust e rzepa (2002) a cml é projetada para inter-operar com diversos protocolos principais de xml: 1) xhtml para texto e imagens; 2) svg para gráficos, esquemas, diagramas de fase de reação, etc; 3) plotml para gráficos mathml para as equações; 4) reação xlink para hipermídia (incluindo átomo spectralpeak atribuições, mapeamento); 5) núcleo resource description framework e dublin para metadados; 6) esquemas extensible markup language para tipos numéricos e outros dados necessários nas ciências físicas, incluindo unidades, matrizes multidimensionais com tipos de dados variados, terminologia e bibliografia.                                                   7 disponível em: <http://www.xml-cml.org> \\\\x0c- system biology markup language 8 (sbml) – é um formato legível por máquina para a representação de modelos com base em extensible markup language para comunicação e armazenamento de modelos computacionais de processos biológicos. é um padrão livre e aberto, sem restrições de uso. tem como propósito ser um formato de intercâmbio usado por diferentes softwares para comunicar os aspectos essenciais de um modelo computacional. a sbml tem três objetivos principais: permitir o uso de softwares múltiplos sem ter que reescrever modelos em conformidade com todos os formatos de arquivo; permitir que modelos sejam compartilhados e publicados na forma que outros pesquisadores possam usar, mesmo trabalhando em diferentes ambientes de software e garantir a sobrevivência de modelos para além do tempo de vida do software usado para criá-las. os mesmos autores que trabalharam a cml e a sbml lançam também, na mesma linha, a proposta da scientific technical and medical markup language9- (stmml). para murray-rust; rzepa (2002) a linguagem de marcação para publicação científica, técnica e médica é baseada em extensible markup language e abrange aspectos genéricos da informação científica. suporta estruturas de dados,  metadados, unidades científicas e alguns componentes básicos da narrativa científica. o meio principal de adição de informação semântica é através de dicionários.   - mathematical markup language10 (mathml) – é uma aplicação extensible markup language para descrever anotação matemática, capturar a sua estrutura e conteúdo e representar símbolos e fórmulas matemáticas em documentos web. recomendada pelo w3c, um de seus objetivos é permitir que a matemática seja processada na web como html e ativar esta funcionalidade para o texto. a mathml representa uma oportunidade para expandir a capacidade de representar, codificar e comunicar os conhecimentos de matemática na internet. o padrão openmath foi projetado com fórmulas semânticas a ser usada como um complemento a mathml.  3.2 uso de ontologias em publicações científicas   - scientific publishing task force ontology for self-publishing11 – consiste em desenvolver uma ontologia de propósito geral para autores auto-publicarem os resultados de suas pesquisas numa                                                 8 disponível em: <http://sbml.org/> 9 murray-rust; rzepa, 2002. 10 recomendação do w3c. <http://www.w3.org/tr/rec-mathml>  11 disponível em: <http://esw.w3.org/topic/hcls/scientificpublishingtaskforce> \\\\x0cforma padronizada. esta iniciativa representa uma mudança de paradigma para as publicações científicas que estão utilizando ontologias para marcar, anotar ou padronizar termos agregando aos mesmos uma semântica definida além da descrição de informações bibliográficas, o autor precisa incluir as informações do conteúdo do artigo. por estas descrições estarem de acordo com uma ontologia, a ambigüidade entre os termos sofre uma redução, facilitando assim, a integração de dados entre os artigos e a sua ligação a outros artigos que estejam semanticamente relacionados.  - ontology for experiment self-publishing (expo12) – é uma ontologia que define conceitos para a criação de uma marcação semântica sobre experimentos científicos, utilizando a web ontology language (web ontology language13). é um trabalho proposto e coordenado pela scientific publishing task force (2006), do w3c semantic web health care and life science interest group com o objetivo de formalizar todas as etapas de um experimento científico em ciências biológicas com vistas a sua publicação como um artigo científico. soldatova e king (2006) afirmam que mesmo apresentando diferentes objetivos, os autores descrevem os resultados de seus experimentos de forma igual. a proposta desses autores consiste numa ontologia para experimentos científicos cujo objetivo é formalizar e padronizar todas as etapas desse experimento, desde a coleta de dados, procedimentos, teste de hipóteses, até a publicação final dos resultados. a utilização da expo para a anotação de experiências científicas torna o conhecimento científico mais explícito; habilita o compartilhamento e reutilização de conhecimento comum e promove o intercâmbio e a confiabilidade de métodos experimentais e conclusões. para costa (2010, p.17) a expo é considerada uma ontologia de representação e está definida a partir da sumo (suggested upper merged ontology) queconfigura como uma ontologia de fundamentação desenvolvida pelo standard upper ontology working group14 (niles; pease, 2001).  3.3 sistemas inovadores de publicações científicas eletrônicas.                                                   12 disponível em: <http://sourceforge.net/projects/expo> 13 a web ontology linguagem - web ontology language é uma linguagem de marcação semântica para publicação e compartilhamento de ontologias na world wide web. web ontology language é desenvolvido como uma extensão do vocabulário resource description framework (resource description framework) e é derivado do daml + oil web ontology language. disponível em:  <http:// www.w3.org /wiki/images/ b/b8/ hcls$$scientificpublishing taskforce$spe_specs_v0_3.html>. 14 disponível em: <suo.ieee.org/suo/sumo/index.html> \\\\x0c- projeto arkeotek15 – voltado para uma publicação na área de arqueologia, o the arkeotek journal, utiliza estratégias de consulta para leitura de textos baseada na pesquisa da escrita logicista (gardin, 2001). explicita as partes semânticas do raciocínio científico constantes no texto de artigos científicos. propõe novas práticas e nova redação através de um novo formato eletrônico, conhecido como scd (construção científica de dados). permite a construção automática de bases de conhecimento e a publicação exaustiva dos dados de pesquisa. promove legibilidade de construtos científicos e possibilita verificar as hipóteses propostas e o compartilhamento de conhecimentos entre pesquisadores.  - sistema hypothesis browser (hybrow)16  – é um sistema para concepção e avaliação de hipóteses em biologia (racunas et al., 2004). propõe criar um ambiente para formulação e teste de validade de novas hipóteses em biologia. seu banco de dados é criado a partir de programas que processam e analisam a literatura da área, formatando-a segundo as entidades usadas na ontologia de processos biológicos. utiliza regras de inferência para apresentar ao usuário o resultado da sua pesquisa. trazem “ranks” (graduações) com explicações e referências para a hipótese apresentada. descobre conflitos em anotações genômicas utilizando literatura e as anotações da gene ontology.  - machineprose17 (estrutura ontológica de afirmações científicas) – é um ambiente para a formulação e codificação formal de afirmações científicas, consideradas como a unidade fundamental de conhecimento. estas afirmações, na forma de relações entre conceitos biomédicos, são baseadas numa ontologia de relações utilizadas como guia para a formulação consistente de hipóteses. as afirmações assim formuladas são para sumarizar e anotar o conteúdo semântico da literatura biomédica, e indexar esta literatura, provendo assim meios semanticamente mais ricos para sua recuperação. o ambiente machineprose possibilita a realização de anotações semânticas de publicações legíveis por máquinas, permitindo pesquisas mais precisas (dinakarpadin et al., 2006). os artigos, quando submetidos para publicação, são acompanhados por metadados que descrevem as afirmações feitas no texto. isso significa usar uma sintaxe baseada em torno do sujeito-predicado-objeto definida para codificar as afirmações em um formato legível por máquina.                                                   15 disponível em: <http://www.arkeotek.org> 16 disponível em: <http://www.hybrow.org> 17 disponível em: <http://sce.umkc.edu/~dinakard/research/machineprose/help.htm> \\\\x0c - semantic web application in neuromedicine (swan)18 – aplicações da web semântica em neuromedicina é uma nova abordagem para a gestão do conhecimento na ciência, utiliza as tecnologias da web semântica e web 2.0 para interconexão de dados, informações e conhecimento. sua proposta é criar um ambiente web para a comunidade de estudiosos dedicados a doença de alzeimer e neurodegenerativas com facilidades para acesso integrado as diferentes bases de conhecimento (gao et al., 2006). facilita a formação, desenvolvimento e teste de hipóteses sobre a doença de alzheimer; permite que sites, cientistas e laboratórios científicos participem com colaborações virtuais; criem ferramentas e recursos para gerir dados e informações sobre a doença; possibilita aos pesquisadores compreender, compartilhar e comparar hipóteses; sua estrutura é especificada pela ontologia swan.  - article of the future 19 – desenvolvido pelo grupo editorial elsevier e sua subsidiária cell press, é uma nova forma de expor e explorar o conteúdo de um artigo científico tradicional em um ambiente online. revoluciona o formato tradicional do periódico científico em relação a três elementos fundamentais: conteúdo, apresentação e contexto. apresenta resumo com recursos de navegação gráfica; dispõe de “highlights” que possibilita destacar os principais resultados da pesquisa; fornece link “see affiliation” que traz um histórico das instituições de pesquisa a que os autores pertencem. utiliza técnicas de visualização com imagens dos assuntos em miniaturas que podem ser ampliadas e melhor visualizadas. traz o resumo das principais conclusões, possibilitando ao leitor, acessar os anexos das referências, bem como as figuras e gráficos citados no artigo. possibilita assinalar nos artigos, idéias e comentários dos leitores. uma tendência que permite a comunicação on-line entre autores e leitores através das tecnologias da web 2.0. no item “supplemental information”, o leitor consegue visualizar as tabelas utilizadas no artigo com informações suplementares descritas em excel e pdf, trazendo ainda a informação do tamanho do arquivo para download. todas as referências das obras citadas pelo autor estão disponibilizadas em ordem alfabética e trazem os seus respectivos links em pdf. as referências trazem a informação da quantidade de vezes que a mesma aparece na base de citação scopus. dispõe ainda do link “paperflick , áudio dos autores falando sobre o seu trabalho. o conteúdo do artigo é                                                 18 http://swan.mindinformatics.org 19 disponível em: <www.articleofthefuture.com> \\\\x0cenriquecido com recursos interativos geoespaciais como o google maps e com o visualizador de proteína (genoma viewer), que permite aos autores disponibilizarem seus artigos no contexto de outras pesquisas como o banco de dados protein e genbank.  - sistema ihop20 (information hyperlinked over proteins) – é um serviço gratuito desenvolvido por robert hoffman que usa genes e proteínas como hiperlinks entre as frases e resumos extraídos da base de dados pubmed. pesquisadores navegam por estes hiperlinks, avaliando as afirmações que lhes possam interessar nas relações entre genes e proteínas. as sentenças são mostradas dentro do resumo em que foram extraídas e relacionadas à referência bibliográfica do artigo correspondente, preservando assim o contexto completo da sentença. o foco diretamente nas afirmações de relações entre genes e proteínas e nas sentenças que as contenham é uma tentativa de viabilizar uma busca semântica no interior dos textos dos artigos, permitindo uma leitura direta, “estratégica” dos artigos, nas palavras de renear e palmer (2009).  - sistema textpresso21 - é um sistema de mineração de texto para literatura científica que utiliza uma ontologia (em forma de taxonomia) baseada em categorias e sub-categorias de termos, que são classes de conceitos biológicos, para recuperar documentos científicos. é um exemplo do uso e integração de ontologias biomédicas na formatação e recuperação de artigos científicos. a nova versão oficialmente conhecida como textpresso 2.0 foi desenvolvida por hans-michael muller com contribuições de arun rangarajan e tracy k. teal (2004). realiza mineração de textos biomédicos previamente tratados e decompostos no nível das suas sentenças, cujas palavras ou expressões são marcadas com termos de várias categorias de ontologias biomédicas como a go. os resultados da busca por uma palavra-chave são listas de sentenças ordenadas pela sua relevância contendo os termos identificados da ontologia “iluminados” dentro de artigos, com a mesma ordenação. um mecanismo é responsável por marcar as categorias nas sentenças extraídas dos documentos para então indexá-las. as buscas podem ser realizadas de forma simples ou avançada. a busca avançada possibilita o usuário combinar as categorias, subcategorias e palavras-chave e também escolher onde a consulta será aplicada (título, resumo, corpo de texto).aplicada sobre todo o texto de um documento, o mecanismo de busca tem a função de                                                 20 disponível em: <http://www.ihop-net.org> 21 disponível em: <http://www.textpresso.org/celegans> \\\\x0ccategorizá-lo enquanto encontra os termos da consulta. a combinação de categorias para descrever o significado de uma consulta, representa a recuperação de melhores documentos do que a utilização de apenas palavras-chaves (muller; kenny et al., 2004). - public library of science22 (plos) – organização formada por cientistas que disponibiliza a literatura médica e científica do mundo através de sete periódicos de acesso aberto: public library of science biology, public library of science medicine, public library of science computational biology, public library of science genetics, public library of science pathogens, public library of science one, e public library of science neglected tropical diseases. valorizados pelas tecnologias semânticas, apresentam novos mecanismos quanto ao seu conteúdo e formato.  disponibilizam gráficos e estatísticas com números de citações e downloads em extensible markup language e html. o conteúdo dos artigos está relacionado e permite ao usuário adicionar, avaliar, e fazer anotações em resource description framework (resource description framework), assim como participar de discussões com os pares. utiliza tecnologia 2.0, disponibilizando links para compartilhamento social (bookmarks). combina técnicas da web 2.0 com ontologia em prol de agregar valor ao conteúdo. todos os artigos ficam acessíveis no pubmed central.   - sistema utopia document 23 - é um leitor de pdf para artigos científicos em ciências da vida (biologia molecular, química, e bioinformática) que permite ao usuário comentar e explorar o conteúdo dos artigos científicos. é um software que integra ferramentas de visualização e análise de dados que representa uma nova possibilidade para leitura de arquivos pdf, sem comprometer a integridade do arquivo em si. sua inovação está na capacidade de transformar características estáticas de um documento em objetos que possam ser vinculados, anotados, visualizados e analisados de forma interativa. busca, sobretudo, fornecer semântica e permitir a descoberta dos metadados aos textos estáticos publicados na web para um determinado termo científico. o sistema utopia document (attwood et al. 2009) é usado rotineiramente pelos editores da publicação experimental semantic biochemical journal24 – bs (lançado oficialmente em 10 de dezembro de 2009) para marcar o conteúdo do artigo antes da sua publicação. esta conduta permite que leitores naveguem de forma semanticamente expressiva pelos seus artigos. recentes adições demonstram a capacidade do sistema para integrar conteúdo on-line com artigos em pdf.                                                 22 disponível em: <http://www.plos.org> 23 disponível em: <http://getutopia.com> 24 disponível em: <http://www.biochemj.org> \\\\x0cutopia document integra ferramentas de visualização, análise de dados, anotações e comentários do leitor, permitindo “linkar” um artigo, suas referências, tabelas e gráficos a outros recursos disponíveis na web, como ontologia biomédicas, bancos de dados genéticos e outros recursos disponíveis na web.   - hypotheses, evidence and relationships25 (projeto hyper) – de waard et al (2009), no projeto hyper propõem, que o  conhecimento biomédico contido nos artigos científicos pode ser representado como triplas de entidade-relacionamento-entidade. os autores, no entanto, vão além desta representação semântica, quando propõem agregá-la ao contexto das afirmações , às intenções e aos mecanismos retóricos usados para convencer seus leitores das afirmativas descritas ao longo de seu artigo. assim, o papel privilegiado é dado à hipótese formulada no artigo, às evidências de sua validade apresentadas pelo autor e às hipóteses de outros na quais o autorbaseia. a hipótese original do autor, como conhecimento novo, é distinguida das hipóteses dos outros e do conhecimento já existente, no qual o autorbaseia. por enquanto o projeto propõe um esquema identificando estes elementos semânticos e argumentativos de um artigo, sem propor sua implementação.  - modelo semântico de publicações científicas digitais – marcondes (2011) propõe um modelo semântico de publicações científicas digitais, no qual as conclusões, como parte privilegiada do conteúdo semântico do artigo, assumem um papel essencial na sintetização deste conteúdo. a proposta, para a qual existe um protótipo em funcionamento, aproveita o momento em que autores submetem seus artigos para publicações eletrônicas, para solicitá-los a entrar com as conclusões do artigo. o texto das conclusões é então processado lingüisticamente, formatado pelo sistema segundo uma relação, codificado em resource description framework e agregado aos metadados bibliográficos tradicionais, formando um registro bibliográfico ampliado, aumentando assim o potencial de recuperação semântica do artigo. a síntese e os dados quantitativos de todas as experiências descritas na seção 3 deste artigo podem ser visualizados a seguir no quadro 1.   quadro 1 – dados quantitativos das 16 experiências analisadas                                                 25 disponível em:< http://oro.open.ac.uk/18563/> \\\\x0ctítulo da experiência domínio temático proposta teórica? protótipo? operacional? utiliza tecnologias semânticas? utiliza tecnologias 2.0? utiliza ontologias? cml química não não sim sim não não sbml biologia não não sim não não não mathml matemática não não sim não não não ontology for self – publishing domínio geral sim não não sim não sim expo  ciências biológicas  sim sim sim sim não sim arkeotek arqueologia não não sim não não não hybrow biologia não sim sim sim não sim machineprose biomédica (alergia e imunologia) não sim sim sim não sim swan neuromedicina doença de alzeimer e neurodegenerativas não não sim sim sim sim article of the future administração de empresas; eletroquímica; ciência dos materiais; matemática e ciência da computação; paleontologia; parasitologia e doenças tropicais; psicologia e ciências cognitivas não sim sim não sim não ihop biomédica, genética (proteína e genes) não não sim não sim sim textpresso biologia e biomédica não não sim sim sim sim public library of science biomédica não não sim sim sim sim utopia documents biologia e bioquímica não não sim sim sim não hyper biomédica sim não não sim não não modelo  semântico de publicações científicas digitais biomédica sim sim não sim não sim resultados 1 química;  1 matemática; 1 domínio geral;  1 arqueologia 1 arqueologia 1 diversificadas 10 biomédica 4 propostas teóricas 5 são protótipos 13 são operacionais 11 utilizam tecnologias semânticas 6 utilizam ferramentas da web 2.0 9 utilizam ontologias fonte: ambinder, d. (2012)  4 conclusões \\\\x0c ao monitorarmos a evolução do periódico científico na atualidade, identificamos que os artigos científicos criados diretamente em formato digital caminham paraintegrar a um novo ambiente de ciência eletrônica e segue evoluindo no contexto da web semântica e da web 2.0.antes o computador conseguia identificar quem era um determinado autor, mas não compreendia o seu significado, hoje com a funcionalidade da web semântica a interoperabilidade semântica já é uma realidade. os novos artigos científicos estão utilizando as tecnologias semânticas, na descrição de informações armazenadas nos documentos digitais indo além da representação dos metadados bibliográficos eapropriando das ferramentas das redes sociais com vistas a ampliar o potencial de interação entre autores e leitores de artigos científicos digitais. este ambiente voltado para a prática da pesquisa cooperativa, não maisparecerá com aquele onde práticas de pesquisas eram realizadas de forma individual e isoladas, mas sim, com experimentos, laboratórios, publicações e fontes de referências integradas. no cerne das mudanças em curso na comunicação científica, está cada vez mais frequente e utilizada pelos pesquisadores, uma prática de leitura que consiste em ler os fragmentos de muitos artigos simultaneamente. esta prática denominada “leitura estratégica” propõe relacionar com detalhes o conteúdo do texto possibilitando acessar e explorar os artigos em menor tempo possível.  isso inevitavelmente implica numa mudança de forma dos artigos científicos. conforme apontado pela literatura, diversas iniciativas estão sendo tomadas para que o pesquisador possa tirar maior proveito das informações hoje apresentadas no ambiente web.  baseadas no atual cenário da web foram identificadas e analisadas 16 experiências inovadoras que trazem novas possibilidades de apresentação, acesso e leitura às publicações científicas eletrônicas e aos conteúdos dos seus artigos, ultrapassando o formato impresso e os tradicionais mecanismos de busca até então utilizados.  dentre estas, (10) são voltadas para área da sáude, o que reflete o aspecto pioneiro da área biomédica; (11) utilizam tecnologias da web semântica; (6) utilizam ferramentas colaborativas da web 2.0; (13) jáencontram em operação; (4) são consideradas propostas teóricas e (5) ainda são protótipos. observou ainda, que junto com as mudanças do formato impresso, estão também, as mudanças das métricas para avaliar o impacto da comunicação científica. priem, piwowar e hemminger (2012) numa recente pesquisa com artigos publicados pela plos, demonstram que pesquisadores estão integrando um número crescente de ferramentas da mídia social (web 2.0) como: blogs, twitter, e mendeley para suas \\\\x0ccomunicações profissionais e que métricas baseadas nestas atividades podem informar medidas mais rápidas de impacto, complementando as métricas tradicionais de citação.  segundo estes autores, um novo cenário para a cientometria começa aesboçar com o uso destas tecnologias. um exemplo dessas ferramentas é o explorer altmetric, que é um aplicativo web gratuito que acompanha as conversas em torno de artigos científicos online.  existe um uso efetivo de linguagens de marcação, propostas com resumos estruturados, mineração de textos e utilização de ontologias para normalização da linguagem natural do discurso científico nos artigos de periódicos eletrônicos. os resultados desta pesquisa deixam claro que o tradicional modelo do artigo científico impresso mostrou seus limites e já não atende as novas necessidades dos pesquisadores, além de não aproveitar as potencialidades oferecidas pelas novas tics.   digital scientific articles on web: new experiences for presentation, access and reading.  abstract: today´s academic publishing standard is the scientific electronic journal. with the internet and electronic publications, information is produced at a rate that exceeds researcher´s abilities to process it. even with today´s facilities of access to the full text of scientific journal articles, the format used in electronic environment is still textual, human-readable, digital copy of printed text, which avoids its semantic processing by programs. recently, new proposals and innovating experiences of digital academic publications have merged, using the facilities offered by semantic web and web 2.0 technologies, beyond  others aiming to extend the possibilities of interaction reader-author, providing direct evaluation and commentaries, greater possibilities of scientific collaboration, retrieval and semantic processing of scientific articles content.  this work´s purpose is to identify innovating experiences of scientific journals that allow direct access to the semantic content of digital scientific papers, that expand the potential of understanding and retrieval of semantic content and interaction between authors and  readers of scientific articles on the web. in this way, there have been identified and analyzed 16 experiences. this research is based on foundations of information science (scientific communication) and in computer science (semantic web and web 2.0). with it´s documental nature on the web, bibliographic, applied, qualitative exploratory and descriptive, the research uses the comparative method for identification of common characteristics and existing differences in experiences, which are synthesized in this article´s graphic 1.  keywords: scientific journal. electronic scientific journal. scientific communication. semantic publication . semantic web. web 2.0.   referências  \\\\x0calmeida, maurício barcellos; souza, renato rocha. avaliação do espectro semântico de instrumentos para a organização da informação. revista eletrônica de biblioteconomia e ciência da informação, florianópolis, v. 16, n. 31, p. 25-50, 2011.  ambinder, déborah motta. artigos científicos digitais na web: novas experiências para apresentação, acesso e leitura. dissertação (mestrado em ciência da informação) - universidade federal fluminense, niterói, 2012.  attwood, t.k.; kell, d.b.; mcdermott, p.; marsh, j.; pettifer, s.r.; thorne, d. calling international rescue: knowledge lost in literature and data landslide! biochemical journal, [s.l.], dec. 2009.  berghel, hal. added value publishing. communications of the acm. v. 42, n. 1, p. 19-23, jan.1999. disponível em: <http://wotan.liu.edu/docis/dbl/cacmca/1999_42_1_ 19_vp .htm. >. acesso em: 25 fev.2012.  berners-lee, tim; hendler, james; lassila, ora. the semantic web: a new form of web content that meaningful… scientific american, [s.l.], v. 284, n. 5, p. 34-43, 2001. disponível em: <http://wwwscientificamerican.com/2001/0501issue/0501berners-lee.htm>. acesso em: 24 nov. 2010.  campos, maria luiza de almeida. web semântica e a gestão de conteúdos informaciona-is. in: bibliotecas digitais: saberes e práticas. salvador: edufba; brasília: ibict, 2006. cap.1, p.55-73.  costa, leonardo cruz da. uma proposta de processo de submissão de artigos científicos às publicações eletrônicas semânticas em ciências biomédicas. 2010, 331f. tese (doutorado em ciência da informação) – universidade federal fluminense, niterói, 2010.  de waard, anita et al. hypotheses, evidence and relationships: the hyper approach for representing scientific knowledge claims. in: international semantic web conference, workshop on semantic web applicati- ons in scientific discurse, 8., 2009, washington, dc. proceedings… washington, dc: springer verlag berlin, 2009. lecture notes in computer science. disponível  em: <http://www.w3.org/wiki/images/a/ae/ hcls$$iswc2009$$ workshop$de waard. pdf>. acesso em: 29 maio 2011.  dinakarpadian, deendayal et al. machineprose: an ontological framework for scientific assertions. journal of the american medical informatics association, [s.l.], v. 13, n. 2, p. 220-232, mar./apr. 2006.  gao, y; kinoshita, j.; wu, e.; miller, e.; lee, r; seaborne, a.; cayzer, s.; clark, t. swam: a distributed  knowledge  infrastructure for alzeimer disease research. journal of web semantic, [s.l.], v. 4, n. 3, 2006. disponível em: <http://www. websemantics journal.org/ps/pub/2006-17>. acesso em: 12 dez. 2010.  \\\\x0cgardin, j.v. vers un remodelage des publication savants: ses rapports avec science de l’infor- mation. in: chaudrion; fluhr (ed.). filtrage et résumé automatique de l’nfor-mation sur les reseaux: actes du 3ème colloque du chapitre français de l’ isko, 2001.  lakatos, eva maria; marconi, marina de andrade. metodologia científica. 4. ed. são paulo: atlas, 2004.  marcondes, carlos henrique. um modelo semântico de publicações eletrônicas. in: encontro nacional de pesquisa em ciência da informação, 11., 2010, rio de janeiro. anais... rio de janeiro: enancib, 2010. disponível em:<http://congresso. ibict.br/index.php/enancib/xienancib/paper/view/373/107>. acesso em: 27 maio 2011.  _______. um modelo semântico de publicações eletrônicas. liinc em revista, rio de janeiro, v. 7, n.1, p. 82-103, mar.2011. disponível em: <http://www. ibict.br/liinc>. acesso em: 05 maio 2011.  muller, hans michael, kenny, eimear , sternberg, paul w. textpresso: an onto logy-based information retrieval and extraction system for biological literature. public library of science biology, v.2, n.11. 2004  murray-rust, peter; rzepa, henry s.;leach, christopher.cml: chemical markup language. chicago: [s.n.],1995.disponível em:<http://www.ch.icac.uk/rzepa/cml/ >.acesso em: 09 mar. 2012.  _______. chemical markup, extensible markup language and the worldwide web. i: basic principles. journal of chemical information and computer science, [s.l.], v. 39, p. 928-942, 1999.  _______. stmml: a markup language for scientific, technical and medical publishing. data  science journal, [s.l.], v. 1, n. 2, p. 128-193, 2002. disponível em: <http:// journals.eecs.qub. ac.uk/codata/journal/contents/1_2/1_2pdfs/ds121.pdf>.acesso em: 11 maio 2011.  _______; towsend, joe a.; adams, sam e; phadungsukanan, weerapong; thomas, jens. the semantics of chemical markup language (cml): dictionnaries and conventions. journal of cheminformatics, v. 3, n. 43, out. 2011. disponível em: <http://www.jcheminf.com/content/3/1/43>. acesso em: 15 mar. 2012.  niles, i.; pease, a. towards a standard upper ontology. in: welty,c.;smith, b.(ed.) international conference on formal ontology in information systems, 2., 2001. proceedings… ogunquit, oct.2001. p.17-19. disponível em: <http://homeearthlink.net/~adampease/professional /fois.pdf>  acesso em: 20 maio 2010.  primo, alex. o aspecto relacional das interações na web 2.0. in: antoun, henrique. web 2.0: participação e vigilância na era da comunicação distribuída. rio de janeiro: mauad, 2008. cap. 9, p.101-122.  racunas, s. a. et al. hybrow: a prototype system for computer-aided hypothesis evaluation. bioinformatics, [s.l.], v. 20, n. 1, p. 257-264, 2004. \\\\x0c renear, allen h.; palmer, carole l. strategic reading, ontologies, and the future of scientific publishing. science, [s.l.], v. 325, n. 14, p. 828-832, aug. 2009.  shotton, david et al. adventures in semantic publishing: exemplar semantic enhance- ments of a research article. public library of science computational biology, v.5, n.4, 2009. disponível em: <http://www.ploscompbiol.org/article/info:doi/10.1371/journal.pcbi.1000361>. acesso em: 08 dez. 2010.  soldatova, l. d; king, r. d. an ontology of scientific experiments. journal of the royal society interface, [s.l.], v. 3, n. 11, p. 795-803, 2006. disponível em: <http://journals. royalsociety.org/content/u552845783800t73/fulltext.pdf>. acesso em: 5 fev. 2011.  workshop sepublica semantic publication, 1., 2011, grécia. disponível em: <http://sepublica.mywipaper.org>. acesso em: 12 abr. 2011.  \\\\x0c']\\n\""
      ]
     },
     "execution_count": 16,
     "metadata": {},
     "output_type": "execute_result"
    }
   ],
   "source": [
    "df_data['headline_text'][0]"
   ]
  },
  {
   "cell_type": "markdown",
   "metadata": {},
   "source": [
    "* **Configuração de StopWords:**\n",
    "\n",
    "Como podemos verificar, a quantidade de stopwords em Português é muito limitada, o que nos força a *setar* mais palavras. Facilita a escolha de novas stopwords, conhecer um pouco mais sobre os documentos que estão separdos para análise - por conta disso, *setamos* também as stopwords em Inglês, pois os documentos possuem algumas palavras irrelevantes em Inglês também."
   ]
  },
  {
   "cell_type": "code",
   "execution_count": 17,
   "metadata": {
    "scrolled": true
   },
   "outputs": [
    {
     "name": "stderr",
     "output_type": "stream",
     "text": [
      "C:\\Users\\mbrug\\.conda\\envs\\dev\\lib\\site-packages\\ipykernel\\ipkernel.py:287: DeprecationWarning: `should_run_async` will not call `transform_cell` automatically in the future. Please pass the result to `transformed_cell` argument and any exception that happen during thetransform in `preprocessing_exc_tuple` in IPython 7.17 and above.\n",
      "  and should_run_async(code)\n"
     ]
    },
    {
     "data": {
      "text/plain": [
       "{'a',\n",
       " 'ao',\n",
       " 'aos',\n",
       " 'aquela',\n",
       " 'aquelas',\n",
       " 'aquele',\n",
       " 'aqueles',\n",
       " 'aquilo',\n",
       " 'as',\n",
       " 'até',\n",
       " 'com',\n",
       " 'como',\n",
       " 'da',\n",
       " 'das',\n",
       " 'de',\n",
       " 'dela',\n",
       " 'delas',\n",
       " 'dele',\n",
       " 'deles',\n",
       " 'depois',\n",
       " 'do',\n",
       " 'dos',\n",
       " 'e',\n",
       " 'ela',\n",
       " 'elas',\n",
       " 'ele',\n",
       " 'eles',\n",
       " 'em',\n",
       " 'entre',\n",
       " 'era',\n",
       " 'eram',\n",
       " 'essa',\n",
       " 'essas',\n",
       " 'esse',\n",
       " 'esses',\n",
       " 'esta',\n",
       " 'estamos',\n",
       " 'estas',\n",
       " 'estava',\n",
       " 'estavam',\n",
       " 'este',\n",
       " 'esteja',\n",
       " 'estejam',\n",
       " 'estejamos',\n",
       " 'estes',\n",
       " 'esteve',\n",
       " 'estive',\n",
       " 'estivemos',\n",
       " 'estiver',\n",
       " 'estivera',\n",
       " 'estiveram',\n",
       " 'estiverem',\n",
       " 'estivermos',\n",
       " 'estivesse',\n",
       " 'estivessem',\n",
       " 'estivéramos',\n",
       " 'estivéssemos',\n",
       " 'estou',\n",
       " 'está',\n",
       " 'estávamos',\n",
       " 'estão',\n",
       " 'eu',\n",
       " 'foi',\n",
       " 'fomos',\n",
       " 'for',\n",
       " 'fora',\n",
       " 'foram',\n",
       " 'forem',\n",
       " 'formos',\n",
       " 'fosse',\n",
       " 'fossem',\n",
       " 'fui',\n",
       " 'fôramos',\n",
       " 'fôssemos',\n",
       " 'haja',\n",
       " 'hajam',\n",
       " 'hajamos',\n",
       " 'havemos',\n",
       " 'hei',\n",
       " 'houve',\n",
       " 'houvemos',\n",
       " 'houver',\n",
       " 'houvera',\n",
       " 'houveram',\n",
       " 'houverei',\n",
       " 'houverem',\n",
       " 'houveremos',\n",
       " 'houveria',\n",
       " 'houveriam',\n",
       " 'houvermos',\n",
       " 'houverá',\n",
       " 'houverão',\n",
       " 'houveríamos',\n",
       " 'houvesse',\n",
       " 'houvessem',\n",
       " 'houvéramos',\n",
       " 'houvéssemos',\n",
       " 'há',\n",
       " 'hão',\n",
       " 'isso',\n",
       " 'isto',\n",
       " 'já',\n",
       " 'lhe',\n",
       " 'lhes',\n",
       " 'mais',\n",
       " 'mas',\n",
       " 'me',\n",
       " 'mesmo',\n",
       " 'meu',\n",
       " 'meus',\n",
       " 'minha',\n",
       " 'minhas',\n",
       " 'muito',\n",
       " 'na',\n",
       " 'nas',\n",
       " 'nem',\n",
       " 'no',\n",
       " 'nos',\n",
       " 'nossa',\n",
       " 'nossas',\n",
       " 'nosso',\n",
       " 'nossos',\n",
       " 'num',\n",
       " 'numa',\n",
       " 'não',\n",
       " 'nós',\n",
       " 'o',\n",
       " 'os',\n",
       " 'ou',\n",
       " 'para',\n",
       " 'pela',\n",
       " 'pelas',\n",
       " 'pelo',\n",
       " 'pelos',\n",
       " 'por',\n",
       " 'qual',\n",
       " 'quando',\n",
       " 'que',\n",
       " 'quem',\n",
       " 'se',\n",
       " 'seja',\n",
       " 'sejam',\n",
       " 'sejamos',\n",
       " 'sem',\n",
       " 'serei',\n",
       " 'seremos',\n",
       " 'seria',\n",
       " 'seriam',\n",
       " 'será',\n",
       " 'serão',\n",
       " 'seríamos',\n",
       " 'seu',\n",
       " 'seus',\n",
       " 'somos',\n",
       " 'sou',\n",
       " 'sua',\n",
       " 'suas',\n",
       " 'são',\n",
       " 'só',\n",
       " 'também',\n",
       " 'te',\n",
       " 'tem',\n",
       " 'temos',\n",
       " 'tenha',\n",
       " 'tenham',\n",
       " 'tenhamos',\n",
       " 'tenho',\n",
       " 'terei',\n",
       " 'teremos',\n",
       " 'teria',\n",
       " 'teriam',\n",
       " 'terá',\n",
       " 'terão',\n",
       " 'teríamos',\n",
       " 'teu',\n",
       " 'teus',\n",
       " 'teve',\n",
       " 'tinha',\n",
       " 'tinham',\n",
       " 'tive',\n",
       " 'tivemos',\n",
       " 'tiver',\n",
       " 'tivera',\n",
       " 'tiveram',\n",
       " 'tiverem',\n",
       " 'tivermos',\n",
       " 'tivesse',\n",
       " 'tivessem',\n",
       " 'tivéramos',\n",
       " 'tivéssemos',\n",
       " 'tu',\n",
       " 'tua',\n",
       " 'tuas',\n",
       " 'tém',\n",
       " 'tínhamos',\n",
       " 'um',\n",
       " 'uma',\n",
       " 'você',\n",
       " 'vocês',\n",
       " 'vos',\n",
       " 'à',\n",
       " 'às',\n",
       " 'é',\n",
       " 'éramos'}"
      ]
     },
     "execution_count": 17,
     "metadata": {},
     "output_type": "execute_result"
    }
   ],
   "source": [
    "stop_words = set(stopwords.words('portuguese'))\n",
    "stop_words_us =  set(stopwords.words('english'))\n",
    "stop_words"
   ]
  },
  {
   "cell_type": "markdown",
   "metadata": {},
   "source": [
    "Definição do novo grupo de stopwords"
   ]
  },
  {
   "cell_type": "code",
   "execution_count": 18,
   "metadata": {
    "scrolled": true
   },
   "outputs": [
    {
     "name": "stderr",
     "output_type": "stream",
     "text": [
      "C:\\Users\\mbrug\\.conda\\envs\\dev\\lib\\site-packages\\ipykernel\\ipkernel.py:287: DeprecationWarning: `should_run_async` will not call `transform_cell` automatically in the future. Please pass the result to `transformed_cell` argument and any exception that happen during thetransform in `preprocessing_exc_tuple` in IPython 7.17 and above.\n",
      "  and should_run_async(code)\n"
     ]
    }
   ],
   "source": [
    "new_stopwords = ['é','onde','senão','quanto','outros','sobre','ser','ainda','quais','desse','assim','tal','podemos','portanto','pode',\n",
    "                 'tanto','alguns','possível','p.','v','p','-se','se',' se''nesse','nessa','neste','nesta','http','disponível','acesso',\n",
    "                 'sendo','enancib','marília', 'rio','universidade','federal','dessa','estadual','diz','respeito','finais','considerações',\n",
    "                 'desta','belo horizointe','janeiro','fevereiro','março','abril','maio','junho','julho','agosto','setembro','outubro',\n",
    "                 'novembro','dezembro','porto alegre','outro','xix','londrina','paulista','xvii', 'xiii', 'gt-8']"
   ]
  },
  {
   "cell_type": "code",
   "execution_count": 19,
   "metadata": {},
   "outputs": [
    {
     "name": "stderr",
     "output_type": "stream",
     "text": [
      "C:\\Users\\mbrug\\.conda\\envs\\dev\\lib\\site-packages\\ipykernel\\ipkernel.py:287: DeprecationWarning: `should_run_async` will not call `transform_cell` automatically in the future. Please pass the result to `transformed_cell` argument and any exception that happen during thetransform in `preprocessing_exc_tuple` in IPython 7.17 and above.\n",
      "  and should_run_async(code)\n"
     ]
    }
   ],
   "source": [
    "stop_words.update(new_stopwords)\n",
    "stop_words.update(stop_words_us)\n",
    "new_stopwords_list = set(stop_words)"
   ]
  },
  {
   "cell_type": "markdown",
   "metadata": {},
   "source": [
    "Lista de stopwords"
   ]
  },
  {
   "cell_type": "code",
   "execution_count": 20,
   "metadata": {},
   "outputs": [
    {
     "name": "stderr",
     "output_type": "stream",
     "text": [
      "C:\\Users\\mbrug\\.conda\\envs\\dev\\lib\\site-packages\\ipykernel\\ipkernel.py:287: DeprecationWarning: `should_run_async` will not call `transform_cell` automatically in the future. Please pass the result to `transformed_cell` argument and any exception that happen during thetransform in `preprocessing_exc_tuple` in IPython 7.17 and above.\n",
      "  and should_run_async(code)\n"
     ]
    },
    {
     "data": {
      "text/plain": [
       "{' senesse',\n",
       " '-se',\n",
       " 'a',\n",
       " 'about',\n",
       " 'above',\n",
       " 'abril',\n",
       " 'acesso',\n",
       " 'after',\n",
       " 'again',\n",
       " 'against',\n",
       " 'agosto',\n",
       " 'ain',\n",
       " 'ainda',\n",
       " 'alguns',\n",
       " 'all',\n",
       " 'am',\n",
       " 'an',\n",
       " 'and',\n",
       " 'any',\n",
       " 'ao',\n",
       " 'aos',\n",
       " 'aquela',\n",
       " 'aquelas',\n",
       " 'aquele',\n",
       " 'aqueles',\n",
       " 'aquilo',\n",
       " 'are',\n",
       " 'aren',\n",
       " \"aren't\",\n",
       " 'as',\n",
       " 'assim',\n",
       " 'at',\n",
       " 'até',\n",
       " 'be',\n",
       " 'because',\n",
       " 'been',\n",
       " 'before',\n",
       " 'being',\n",
       " 'belo horizointe',\n",
       " 'below',\n",
       " 'between',\n",
       " 'both',\n",
       " 'but',\n",
       " 'by',\n",
       " 'can',\n",
       " 'com',\n",
       " 'como',\n",
       " 'considerações',\n",
       " 'couldn',\n",
       " \"couldn't\",\n",
       " 'd',\n",
       " 'da',\n",
       " 'das',\n",
       " 'de',\n",
       " 'dela',\n",
       " 'delas',\n",
       " 'dele',\n",
       " 'deles',\n",
       " 'depois',\n",
       " 'dessa',\n",
       " 'desse',\n",
       " 'desta',\n",
       " 'dezembro',\n",
       " 'did',\n",
       " 'didn',\n",
       " \"didn't\",\n",
       " 'disponível',\n",
       " 'diz',\n",
       " 'do',\n",
       " 'does',\n",
       " 'doesn',\n",
       " \"doesn't\",\n",
       " 'doing',\n",
       " 'don',\n",
       " \"don't\",\n",
       " 'dos',\n",
       " 'down',\n",
       " 'during',\n",
       " 'e',\n",
       " 'each',\n",
       " 'ela',\n",
       " 'elas',\n",
       " 'ele',\n",
       " 'eles',\n",
       " 'em',\n",
       " 'enancib',\n",
       " 'entre',\n",
       " 'era',\n",
       " 'eram',\n",
       " 'essa',\n",
       " 'essas',\n",
       " 'esse',\n",
       " 'esses',\n",
       " 'esta',\n",
       " 'estadual',\n",
       " 'estamos',\n",
       " 'estas',\n",
       " 'estava',\n",
       " 'estavam',\n",
       " 'este',\n",
       " 'esteja',\n",
       " 'estejam',\n",
       " 'estejamos',\n",
       " 'estes',\n",
       " 'esteve',\n",
       " 'estive',\n",
       " 'estivemos',\n",
       " 'estiver',\n",
       " 'estivera',\n",
       " 'estiveram',\n",
       " 'estiverem',\n",
       " 'estivermos',\n",
       " 'estivesse',\n",
       " 'estivessem',\n",
       " 'estivéramos',\n",
       " 'estivéssemos',\n",
       " 'estou',\n",
       " 'está',\n",
       " 'estávamos',\n",
       " 'estão',\n",
       " 'eu',\n",
       " 'federal',\n",
       " 'fevereiro',\n",
       " 'few',\n",
       " 'finais',\n",
       " 'foi',\n",
       " 'fomos',\n",
       " 'for',\n",
       " 'fora',\n",
       " 'foram',\n",
       " 'forem',\n",
       " 'formos',\n",
       " 'fosse',\n",
       " 'fossem',\n",
       " 'from',\n",
       " 'fui',\n",
       " 'further',\n",
       " 'fôramos',\n",
       " 'fôssemos',\n",
       " 'gt-8',\n",
       " 'had',\n",
       " 'hadn',\n",
       " \"hadn't\",\n",
       " 'haja',\n",
       " 'hajam',\n",
       " 'hajamos',\n",
       " 'has',\n",
       " 'hasn',\n",
       " \"hasn't\",\n",
       " 'have',\n",
       " 'havemos',\n",
       " 'haven',\n",
       " \"haven't\",\n",
       " 'having',\n",
       " 'he',\n",
       " 'hei',\n",
       " 'her',\n",
       " 'here',\n",
       " 'hers',\n",
       " 'herself',\n",
       " 'him',\n",
       " 'himself',\n",
       " 'his',\n",
       " 'houve',\n",
       " 'houvemos',\n",
       " 'houver',\n",
       " 'houvera',\n",
       " 'houveram',\n",
       " 'houverei',\n",
       " 'houverem',\n",
       " 'houveremos',\n",
       " 'houveria',\n",
       " 'houveriam',\n",
       " 'houvermos',\n",
       " 'houverá',\n",
       " 'houverão',\n",
       " 'houveríamos',\n",
       " 'houvesse',\n",
       " 'houvessem',\n",
       " 'houvéramos',\n",
       " 'houvéssemos',\n",
       " 'how',\n",
       " 'http',\n",
       " 'há',\n",
       " 'hão',\n",
       " 'i',\n",
       " 'if',\n",
       " 'in',\n",
       " 'into',\n",
       " 'is',\n",
       " 'isn',\n",
       " \"isn't\",\n",
       " 'isso',\n",
       " 'isto',\n",
       " 'it',\n",
       " \"it's\",\n",
       " 'its',\n",
       " 'itself',\n",
       " 'janeiro',\n",
       " 'julho',\n",
       " 'junho',\n",
       " 'just',\n",
       " 'já',\n",
       " 'lhe',\n",
       " 'lhes',\n",
       " 'll',\n",
       " 'londrina',\n",
       " 'm',\n",
       " 'ma',\n",
       " 'maio',\n",
       " 'mais',\n",
       " 'março',\n",
       " 'marília',\n",
       " 'mas',\n",
       " 'me',\n",
       " 'mesmo',\n",
       " 'meu',\n",
       " 'meus',\n",
       " 'mightn',\n",
       " \"mightn't\",\n",
       " 'minha',\n",
       " 'minhas',\n",
       " 'more',\n",
       " 'most',\n",
       " 'muito',\n",
       " 'mustn',\n",
       " \"mustn't\",\n",
       " 'my',\n",
       " 'myself',\n",
       " 'na',\n",
       " 'nas',\n",
       " 'needn',\n",
       " \"needn't\",\n",
       " 'nem',\n",
       " 'nessa',\n",
       " 'nesta',\n",
       " 'neste',\n",
       " 'no',\n",
       " 'nor',\n",
       " 'nos',\n",
       " 'nossa',\n",
       " 'nossas',\n",
       " 'nosso',\n",
       " 'nossos',\n",
       " 'not',\n",
       " 'novembro',\n",
       " 'now',\n",
       " 'num',\n",
       " 'numa',\n",
       " 'não',\n",
       " 'nós',\n",
       " 'o',\n",
       " 'of',\n",
       " 'off',\n",
       " 'on',\n",
       " 'once',\n",
       " 'onde',\n",
       " 'only',\n",
       " 'or',\n",
       " 'os',\n",
       " 'other',\n",
       " 'ou',\n",
       " 'our',\n",
       " 'ours',\n",
       " 'ourselves',\n",
       " 'out',\n",
       " 'outro',\n",
       " 'outros',\n",
       " 'outubro',\n",
       " 'over',\n",
       " 'own',\n",
       " 'p',\n",
       " 'p.',\n",
       " 'para',\n",
       " 'paulista',\n",
       " 'pela',\n",
       " 'pelas',\n",
       " 'pelo',\n",
       " 'pelos',\n",
       " 'pode',\n",
       " 'podemos',\n",
       " 'por',\n",
       " 'portanto',\n",
       " 'porto alegre',\n",
       " 'possível',\n",
       " 'quais',\n",
       " 'qual',\n",
       " 'quando',\n",
       " 'quanto',\n",
       " 'que',\n",
       " 'quem',\n",
       " 're',\n",
       " 'respeito',\n",
       " 'rio',\n",
       " 's',\n",
       " 'same',\n",
       " 'se',\n",
       " 'seja',\n",
       " 'sejam',\n",
       " 'sejamos',\n",
       " 'sem',\n",
       " 'sendo',\n",
       " 'senão',\n",
       " 'ser',\n",
       " 'serei',\n",
       " 'seremos',\n",
       " 'seria',\n",
       " 'seriam',\n",
       " 'será',\n",
       " 'serão',\n",
       " 'seríamos',\n",
       " 'setembro',\n",
       " 'seu',\n",
       " 'seus',\n",
       " 'shan',\n",
       " \"shan't\",\n",
       " 'she',\n",
       " \"she's\",\n",
       " 'should',\n",
       " \"should've\",\n",
       " 'shouldn',\n",
       " \"shouldn't\",\n",
       " 'so',\n",
       " 'sobre',\n",
       " 'some',\n",
       " 'somos',\n",
       " 'sou',\n",
       " 'sua',\n",
       " 'suas',\n",
       " 'such',\n",
       " 'são',\n",
       " 'só',\n",
       " 't',\n",
       " 'tal',\n",
       " 'também',\n",
       " 'tanto',\n",
       " 'te',\n",
       " 'tem',\n",
       " 'temos',\n",
       " 'tenha',\n",
       " 'tenham',\n",
       " 'tenhamos',\n",
       " 'tenho',\n",
       " 'terei',\n",
       " 'teremos',\n",
       " 'teria',\n",
       " 'teriam',\n",
       " 'terá',\n",
       " 'terão',\n",
       " 'teríamos',\n",
       " 'teu',\n",
       " 'teus',\n",
       " 'teve',\n",
       " 'than',\n",
       " 'that',\n",
       " \"that'll\",\n",
       " 'the',\n",
       " 'their',\n",
       " 'theirs',\n",
       " 'them',\n",
       " 'themselves',\n",
       " 'then',\n",
       " 'there',\n",
       " 'these',\n",
       " 'they',\n",
       " 'this',\n",
       " 'those',\n",
       " 'through',\n",
       " 'tinha',\n",
       " 'tinham',\n",
       " 'tive',\n",
       " 'tivemos',\n",
       " 'tiver',\n",
       " 'tivera',\n",
       " 'tiveram',\n",
       " 'tiverem',\n",
       " 'tivermos',\n",
       " 'tivesse',\n",
       " 'tivessem',\n",
       " 'tivéramos',\n",
       " 'tivéssemos',\n",
       " 'to',\n",
       " 'too',\n",
       " 'tu',\n",
       " 'tua',\n",
       " 'tuas',\n",
       " 'tém',\n",
       " 'tínhamos',\n",
       " 'um',\n",
       " 'uma',\n",
       " 'under',\n",
       " 'universidade',\n",
       " 'until',\n",
       " 'up',\n",
       " 'v',\n",
       " 've',\n",
       " 'very',\n",
       " 'você',\n",
       " 'vocês',\n",
       " 'vos',\n",
       " 'was',\n",
       " 'wasn',\n",
       " \"wasn't\",\n",
       " 'we',\n",
       " 'were',\n",
       " 'weren',\n",
       " \"weren't\",\n",
       " 'what',\n",
       " 'when',\n",
       " 'where',\n",
       " 'which',\n",
       " 'while',\n",
       " 'who',\n",
       " 'whom',\n",
       " 'why',\n",
       " 'will',\n",
       " 'with',\n",
       " 'won',\n",
       " \"won't\",\n",
       " 'wouldn',\n",
       " \"wouldn't\",\n",
       " 'xiii',\n",
       " 'xix',\n",
       " 'xvii',\n",
       " 'y',\n",
       " 'you',\n",
       " \"you'd\",\n",
       " \"you'll\",\n",
       " \"you're\",\n",
       " \"you've\",\n",
       " 'your',\n",
       " 'yours',\n",
       " 'yourself',\n",
       " 'yourselves',\n",
       " 'à',\n",
       " 'às',\n",
       " 'é',\n",
       " 'éramos'}"
      ]
     },
     "execution_count": 20,
     "metadata": {},
     "output_type": "execute_result"
    }
   ],
   "source": [
    "new_stopwords_list"
   ]
  },
  {
   "cell_type": "markdown",
   "metadata": {},
   "source": [
    "* **Tokenização e remoção de stopwords** "
   ]
  },
  {
   "cell_type": "code",
   "execution_count": null,
   "metadata": {},
   "outputs": [
    {
     "name": "stderr",
     "output_type": "stream",
     "text": [
      "C:\\Users\\mbrug\\.conda\\envs\\dev\\lib\\site-packages\\ipykernel\\ipkernel.py:287: DeprecationWarning: `should_run_async` will not call `transform_cell` automatically in the future. Please pass the result to `transformed_cell` argument and any exception that happen during thetransform in `preprocessing_exc_tuple` in IPython 7.17 and above.\n",
      "  and should_run_async(code)\n"
     ]
    }
   ],
   "source": [
    "processed_docs = df_data['headline_text'].map(clean_data)"
   ]
  },
  {
   "cell_type": "code",
   "execution_count": null,
   "metadata": {},
   "outputs": [],
   "source": [
    "processed_docs[0]"
   ]
  },
  {
   "cell_type": "markdown",
   "metadata": {},
   "source": [
    "Word Cloud"
   ]
  },
  {
   "cell_type": "code",
   "execution_count": null,
   "metadata": {},
   "outputs": [],
   "source": [
    "long_string = \"\"\n",
    "\n",
    "for text in processed_docs:\n",
    "    long_string = long_string + \",\".join(list(text))"
   ]
  },
  {
   "cell_type": "code",
   "execution_count": null,
   "metadata": {},
   "outputs": [],
   "source": [
    "len(long_string)"
   ]
  },
  {
   "cell_type": "code",
   "execution_count": null,
   "metadata": {},
   "outputs": [],
   "source": [
    "wordcloud.generate(long_string)"
   ]
  },
  {
   "cell_type": "code",
   "execution_count": null,
   "metadata": {},
   "outputs": [],
   "source": [
    "wordcloud.to_image()"
   ]
  },
  {
   "cell_type": "code",
   "execution_count": null,
   "metadata": {},
   "outputs": [],
   "source": [
    "wordcloud.to_file('word_cloud_stop_words.png')"
   ]
  },
  {
   "cell_type": "markdown",
   "metadata": {},
   "source": [
    "* **Análise Exploratória: 10 palavras mais comuns:**"
   ]
  },
  {
   "cell_type": "code",
   "execution_count": null,
   "metadata": {},
   "outputs": [],
   "source": [
    "count_vectorizer = CountVectorizer(stop_words=new_stopwords_list)\n",
    "count_vectorizer"
   ]
  },
  {
   "cell_type": "code",
   "execution_count": null,
   "metadata": {},
   "outputs": [],
   "source": [
    "count_data = count_vectorizer.fit_transform(df_data['headline_text'])"
   ]
  },
  {
   "cell_type": "code",
   "execution_count": null,
   "metadata": {},
   "outputs": [],
   "source": [
    "plot_10_most_common_words(count_data, count_vectorizer)"
   ]
  },
  {
   "cell_type": "markdown",
   "metadata": {},
   "source": [
    "### Aplicando o LDA"
   ]
  },
  {
   "cell_type": "markdown",
   "metadata": {},
   "source": [
    "* **Dicionário:**"
   ]
  },
  {
   "cell_type": "code",
   "execution_count": null,
   "metadata": {},
   "outputs": [],
   "source": [
    "dictionary = corpora.Dictionary(processed_docs)\n",
    "\n",
    "count = 0\n",
    "\n",
    "for k, v in dictionary.iteritems():\n",
    "    print(k, v)\n",
    "    count += 1\n",
    "    if count > 10:\n",
    "        break"
   ]
  },
  {
   "cell_type": "markdown",
   "metadata": {},
   "source": [
    "* **Corpus:**"
   ]
  },
  {
   "cell_type": "code",
   "execution_count": null,
   "metadata": {},
   "outputs": [],
   "source": [
    "bow_corpus = [dictionary.doc2bow(doc) for doc in processed_docs]\n",
    "bow_corpus[:1]"
   ]
  },
  {
   "cell_type": "markdown",
   "metadata": {},
   "source": [
    "* **LDA usando Bag of Words:**"
   ]
  },
  {
   "cell_type": "code",
   "execution_count": null,
   "metadata": {},
   "outputs": [],
   "source": [
    "lda_model = models.LdaMulticore(bow_corpus, \n",
    "                                num_topics=10, \n",
    "                                id2word=dictionary, \n",
    "                                passes=2, \n",
    "                                workers=2)"
   ]
  },
  {
   "cell_type": "code",
   "execution_count": null,
   "metadata": {},
   "outputs": [],
   "source": [
    "for idx, topic in lda_model.print_topics(-1):\n",
    "    print('Topic: {} \\nWords: {}'.format(idx, topic))"
   ]
  },
  {
   "cell_type": "markdown",
   "metadata": {},
   "source": [
    "Analisando os resultados do modelo:"
   ]
  },
  {
   "cell_type": "code",
   "execution_count": null,
   "metadata": {},
   "outputs": [],
   "source": [
    "pyLDAvis.gensim.prepare(lda_model, bow_corpus, dictionary)"
   ]
  },
  {
   "cell_type": "markdown",
   "metadata": {},
   "source": [
    "* **LDA usando TF-IDF**\n",
    "\n",
    "Modelagem dos dados em TF-IDF"
   ]
  },
  {
   "cell_type": "code",
   "execution_count": null,
   "metadata": {},
   "outputs": [],
   "source": [
    "tfidf = models.TfidfModel(bow_corpus)\n",
    "corpus_tfidf = tfidf[bow_corpus]\n",
    "\n",
    "for doc in corpus_tfidf:\n",
    "    print([[dictionary[id], np.around(freq, decimals=2)] for id, freq in doc])"
   ]
  },
  {
   "cell_type": "markdown",
   "metadata": {},
   "source": [
    "Aplicando ao Modelo"
   ]
  },
  {
   "cell_type": "code",
   "execution_count": null,
   "metadata": {},
   "outputs": [],
   "source": [
    "lda_model_tfidf = models.LdaMulticore(corpus_tfidf, \n",
    "                                      num_topics=10, \n",
    "                                      id2word=dictionary, \n",
    "                                      passes=2, \n",
    "                                      workers=4)"
   ]
  },
  {
   "cell_type": "code",
   "execution_count": null,
   "metadata": {},
   "outputs": [],
   "source": [
    "for idx, topic in lda_model_tfidf.print_topics(-1):\n",
    "    print('Topic: {} \\nWord: {}'.format(idx, topic))"
   ]
  },
  {
   "cell_type": "markdown",
   "metadata": {},
   "source": [
    "### Avaliação de desempenho do modelo LDA classificando uma amostra de documento usando Bag of Words"
   ]
  },
  {
   "cell_type": "code",
   "execution_count": null,
   "metadata": {},
   "outputs": [],
   "source": [
    "processed_docs[0]"
   ]
  },
  {
   "cell_type": "code",
   "execution_count": null,
   "metadata": {},
   "outputs": [],
   "source": [
    "for index, score in sorted(lda_model[bow_corpus[0]], key=lambda tup: -1*tup[1]):\n",
    "    print(\"\\nScore: {}\\t \\nTopic: {}\".format(score, lda_model.print_topic(index, 10)))"
   ]
  },
  {
   "cell_type": "markdown",
   "metadata": {},
   "source": [
    "### Avaliação de desempenho do modelo LDA classificando uma amostra de documento usando TF-IDFL"
   ]
  }
 ],
 "metadata": {
  "kernelspec": {
   "display_name": "Python 3",
   "language": "python",
   "name": "python3"
  },
  "language_info": {
   "codemirror_mode": {
    "name": "ipython",
    "version": 3
   },
   "file_extension": ".py",
   "mimetype": "text/x-python",
   "name": "python",
   "nbconvert_exporter": "python",
   "pygments_lexer": "ipython3",
   "version": "3.7.1"
  }
 },
 "nbformat": 4,
 "nbformat_minor": 4
}
